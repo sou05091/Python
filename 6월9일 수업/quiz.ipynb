{
 "cells": [
  {
   "cell_type": "code",
   "execution_count": 1,
   "metadata": {},
   "outputs": [
    {
     "name": "stdout",
     "output_type": "stream",
     "text": [
      "0\n"
     ]
    }
   ],
   "source": [
    "#사용자로부터 문자열을 입력 받는다\n",
    "#문자열이 data의 key와 같으면 value를 출력하고 다시 문자열을 입력 받는다\n",
    "#문자열 에 해당하는 key가 없으면 \"항목이 없습니다\"라는 메시지를 출력하고 종료한다.\n",
    "\n",
    "data = {\"Sun\": 0, \"Mon\": 1, \"Tue\": 2, \"Wed\": 3, \"Thu\": 4, \"Fri\": 5, \"Sat\": 6}\n",
    "try:\n",
    "    n = input(\"요일 입력\")\n",
    "    # if n == data.keys():\n",
    "    #     print(data)\n",
    "    value = data[n]\n",
    "    print(value)\n",
    "except KeyError:\n",
    "    print(\"잘못된 값입니다.\")\n",
    "    #break\n",
    "    "
   ]
  },
  {
   "cell_type": "code",
   "execution_count": 5,
   "metadata": {},
   "outputs": [
    {
     "name": "stdout",
     "output_type": "stream",
     "text": [
      "1\n"
     ]
    }
   ],
   "source": [
    "#위 문제를 try-except를 이용하지 않고 프로그램할 수 있는가? 차이점은 무엇인가?\n",
    "\n",
    "data = {\"Sun\": 0, \"Mon\": 1, \"Tue\": 2, \"Wed\": 3, \"Thu\": 4, \"Fri\": 5, \"Sat\": 6}\n",
    "n = input(\"요일 입력\")\n",
    "value = data.get(n)\n",
    "if value == data[n]:\n",
    "    print(value)\n",
    "else:\n",
    "    print(\"잘못된 값입니다.\")"
   ]
  }
 ],
 "metadata": {
  "kernelspec": {
   "display_name": "base",
   "language": "python",
   "name": "python3"
  },
  "language_info": {
   "codemirror_mode": {
    "name": "ipython",
    "version": 3
   },
   "file_extension": ".py",
   "mimetype": "text/x-python",
   "name": "python",
   "nbconvert_exporter": "python",
   "pygments_lexer": "ipython3",
   "version": "3.10.9"
  },
  "orig_nbformat": 4
 },
 "nbformat": 4,
 "nbformat_minor": 2
}
