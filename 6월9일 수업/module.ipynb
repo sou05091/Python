{
 "cells": [
  {
   "cell_type": "code",
   "execution_count": null,
   "metadata": {},
   "outputs": [],
   "source": [
    "#os: 운영 체제와 상호 작용하는 모듈\n",
    "#sys: 파이썬 인터프리터와 상호 작용하는 모듈\n",
    "#math: 수학 함수와 상수를 제공하는 모듈\n",
    "#random: 난수 생성과 관련된 모듈\n",
    "#datetime: 날짜와 시간을 다루는 모듈\n",
    "#calendar: 날짜와 관련된 다양한 기능 제공하는 모듈\n",
    "#json: JSON 데이터를 다루는 모듈\n",
    "#csv: CSV 파일을 다루는 모듈\n",
    "#re: 정규 표현식을 다루는 모듈\n",
    "#requests: HTTP 요청을 보내는 모듈\n",
    "#beautifulsoup4: HTML과 XML을 파싱하는 모듈\n",
    "#numpy: 과학 계산을 위한 모듈\n",
    "#pandas: 데이터 분석을 위한 모듈\n",
    "#matplotlib: 데이터 시각화를 위한 모듈\n",
    "\n"
   ]
  },
  {
   "cell_type": "code",
   "execution_count": 1,
   "metadata": {},
   "outputs": [
    {
     "name": "stdout",
     "output_type": "stream",
     "text": [
      "현재 작업 디렉토리: c:\\Users\\user\\Python 데이터분석\\6월9일 수업\n",
      "새로운 디렉토리 'new_directory'가 생성되었습니다.\n",
      "'new_file.txt' 파일이 'new_directory' 디렉토리 내에 생성되었습니다.\n",
      "'new_directory' 디렉토리 내의 파일 및 디렉토리 목록: ['new_file.txt']\n",
      "'new_directory\\new_file.txt'는 파일입니다.\n",
      "'new_file.txt' 파일이 삭제되었습니다.\n",
      "'new_directory' 디렉토리가 삭제되었습니다.\n"
     ]
    }
   ],
   "source": [
    "import os\n",
    "\n",
    "# 현재 작업 디렉토리 확인\n",
    "current_dir = os.getcwd()\n",
    "print(\"현재 작업 디렉토리:\", current_dir)\n",
    "\n",
    "# 새로운 디렉토리 생성\n",
    "new_dir = \"new_directory\"\n",
    "os.mkdir(new_dir)\n",
    "print(f\"새로운 디렉토리 '{new_dir}'가 생성되었습니다.\")\n",
    "\n",
    "# 생성한 디렉토리 내에 파일 생성\n",
    "new_file = \"new_file.txt\"\n",
    "with open(os.path.join(new_dir, new_file), \"w\") as f:\n",
    "    f.write(\"새로운 파일 내용\")\n",
    "print(f\"'{new_file}' 파일이 '{new_dir}' 디렉토리 내에 생성되었습니다.\")\n",
    "\n",
    "# 지정된 디렉토리의 파일 및 디렉토리 목록 확인\n",
    "list_dir = os.listdir(new_dir)\n",
    "print(f\"'{new_dir}' 디렉토리 내의 파일 및 디렉토리 목록: {list_dir}\")\n",
    "\n",
    "# 파일인지 디렉토리인지 확인\n",
    "for item in list_dir:\n",
    "    item_path = os.path.join(new_dir, item)\n",
    "    if os.path.isfile(item_path):\n",
    "        print(f\"'{item_path}'는 파일입니다.\")\n",
    "    elif os.path.isdir(item_path):\n",
    "        print(f\"'{item_path}'는 디렉토리입니다.\")\n",
    "\n",
    "# 파일 삭제\n",
    "os.remove(os.path.join(new_dir, new_file))\n",
    "print(f\"'{new_file}' 파일이 삭제되었습니다.\")\n",
    "\n",
    "# 디렉토리 삭제\n",
    "os.rmdir(new_dir)\n",
    "print(f\"'{new_dir}' 디렉토리가 삭제되었습니다.\")\n"
   ]
  },
  {
   "cell_type": "code",
   "execution_count": 2,
   "metadata": {},
   "outputs": [
    {
     "name": "stdout",
     "output_type": "stream",
     "text": [
      "명령행 인자(argument) 리스트: ['c:\\\\ProgramData\\\\anaconda3\\\\lib\\\\site-packages\\\\ipykernel_launcher.py', '--ip=127.0.0.1', '--stdin=9013', '--control=9006', '--hb=9005', '--Session.signature_scheme=\"hmac-sha256\"', '--Session.key=b\"46dce246-37b4-4d1c-9255-21fa899626ba\"', '--shell=9007', '--transport=\"tcp\"', '--iopub=9014', '--f=c:\\\\Users\\\\user\\\\AppData\\\\Roaming\\\\jupyter\\\\runtime\\\\kernel-v2-10124paC3LCdgwkJD.json']\n",
      "a의 크기: 88\n",
      "표준 출력 테스트\n"
     ]
    },
    {
     "name": "stderr",
     "output_type": "stream",
     "text": [
      "표준 오류 출력 테스트\n"
     ]
    }
   ],
   "source": [
    "#SYS\n",
    "import sys\n",
    "\n",
    "# sys.argv 예시\n",
    "print(\"명령행 인자(argument) 리스트:\", sys.argv)\n",
    "\n",
    "# sys.getsizeof() 예시\n",
    "a = [1, 2, 3]\n",
    "print(\"a의 크기:\", sys.getsizeof(a))\n",
    "\n",
    "# sys.stdin, sys.stdout, sys.stderr 예시\n",
    "sys.stdout.write(\"표준 출력 테스트\\n\")\n",
    "sys.stderr.write(\"표준 오류 출력 테스트\\n\")\n",
    "input_data = sys.stdin.readline().strip()\n",
    "print(\"입력값:\", input_data)\n",
    "\n",
    "# sys.version, sys.platform 예시\n",
    "print(\"현재 파이썬 버전:\", sys.version)\n",
    "print(\"현재 시스템 플랫폼:\", sys.platform)\n",
    "\n",
    "# sys.path 예시\n",
    "print(\"모듈 검색 경로:\", sys.path)\n"
   ]
  },
  {
   "cell_type": "code",
   "execution_count": null,
   "metadata": {},
   "outputs": [],
   "source": [
    "#Math\n",
    "import math\n",
    "\n",
    "# 반올림 함수\n",
    "print(math.ceil(3.2))    # 결과: 4\n",
    "print(math.ceil(-3.2))   # 결과: -3\n",
    "\n",
    "print(math.floor(3.2))   # 결과: 3\n",
    "print(math.floor(-3.2))  # 결과: -4\n",
    "\n",
    "print(round(3.2))        # 결과: 3\n",
    "print(round(-3.2))       # 결과: -3\n",
    "print(round(3.5))        # 결과: 4\n",
    "print(round(-3.5))       # 결과: -4\n",
    "\n",
    "print(math.trunc(3.7))    # 결과: 3\n",
    "print(math.trunc(-3.7))   # 결과: -3\n",
    "\n",
    "# 절댓값 함수\n",
    "print(abs(3.2))          # 결과: 3.2\n",
    "print(abs(-3.2))         # 결과: 3.2\n",
    "\n",
    "print(math.fabs(3.2))     # 결과: 3.2\n",
    "print(math.fabs(-3.2))    # 결과: 3.2\n"
   ]
  }
 ],
 "metadata": {
  "kernelspec": {
   "display_name": "base",
   "language": "python",
   "name": "python3"
  },
  "language_info": {
   "codemirror_mode": {
    "name": "ipython",
    "version": 3
   },
   "file_extension": ".py",
   "mimetype": "text/x-python",
   "name": "python",
   "nbconvert_exporter": "python",
   "pygments_lexer": "ipython3",
   "version": "3.10.9"
  },
  "orig_nbformat": 4
 },
 "nbformat": 4,
 "nbformat_minor": 2
}
