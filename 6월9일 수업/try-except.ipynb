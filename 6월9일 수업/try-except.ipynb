{
 "cells": [
  {
   "cell_type": "code",
   "execution_count": 1,
   "metadata": {},
   "outputs": [
    {
     "name": "stdout",
     "output_type": "stream",
     "text": [
      "The file does not exist. Please check the file path.\n"
     ]
    }
   ],
   "source": [
    "#ValueError 처리 예시\n",
    "\n",
    "try:\n",
    "    user_input = input(\"Enter a number: \")\n",
    "    number = int(user_input)\n",
    "except ValueError:\n",
    "    print(\"Invalid input. Please enter a valid number.\")\n",
    "\n",
    "#FileNotFoundError 처리 예시\n",
    "try:\n",
    "    with open(\"non_existing_file.txt\", \"r\") as file:\n",
    "        content = file.read()\n",
    "except FileNotFoundError:\n",
    "    print(\"The file does not exist. Please check the file path.\")\n"
   ]
  },
  {
   "cell_type": "code",
   "execution_count": 2,
   "metadata": {},
   "outputs": [],
   "source": [
    "#여러 예외 처리\n",
    "try:\n",
    "    # 예외가 발생할 수 있는 코드\n",
    "    user_input = input(\"Enter a number: \")\n",
    "    number = int(user_input)\n",
    "    result = 10 / number\n",
    "except ValueError:\n",
    "    print(\"Invalid input. Please enter a valid number.\")\n",
    "except ZeroDivisionError:\n",
    "    print(\"Cannot divide by zero!\")\n"
   ]
  },
  {
   "cell_type": "code",
   "execution_count": 3,
   "metadata": {},
   "outputs": [],
   "source": [
    "#try:\n",
    "    # 예외가 발생할 수 있는 코드\n",
    "#except ExceptionType1:\n",
    "    # 예외 타입 1이 발생한 경우 실행할 코드\n",
    "#except ExceptionType2:\n",
    "    # 예외 타입 2가 발생한 경우 실행할 코드\n",
    "# ... 필요한 만큼의 except 블록을 추가\n",
    "#finally:\n",
    "    # 예외 발생 여부와 상관없이 항상 실행할 코드\n"
   ]
  },
  {
   "cell_type": "code",
   "execution_count": 4,
   "metadata": {},
   "outputs": [
    {
     "name": "stdout",
     "output_type": "stream",
     "text": [
      "File not found. Please check the file name.\n"
     ]
    }
   ],
   "source": [
    "#try-except-finally 문\n",
    "try:\n",
    "    file = open(\"example.txt\", \"r\")\n",
    "    content = file.read()\n",
    "except FileNotFoundError:\n",
    "    print(\"File not found. Please check the file name.\")\n",
    "except PermissionError:\n",
    "    print(\"Permission denied. You don't have the required permission to read this file.\")\n",
    "else:\n",
    "    print(\"File content:\")\n",
    "    print(content)\n",
    "finally:\n",
    "    if 'file' in locals() and not file.closed:\n",
    "        file.close()\n",
    "        print(\"File has been closed.\")\n"
   ]
  },
  {
   "cell_type": "code",
   "execution_count": null,
   "metadata": {},
   "outputs": [],
   "source": [
    "# 파이썬에서의 기본 예외 종류\n",
    "\n",
    "# ValueError: 잘못된 값이 사용될 때 발생\n",
    "num = int(\"not_a_number\")\n",
    "\n",
    "# TypeError: 잘못된 타입의 객체가 사용될 때 발생\n",
    "result = \"string\" + 1\n",
    "\n",
    "# IndexError: 인덱스 범위를 벗어난 경우 발생\n",
    "numbers = [1, 2, 3]\n",
    "out_of_range = numbers[3]\n",
    "\n",
    "# KeyError: 사전에서 존재하지 않는 키를 참조할 때 발생\n",
    "my_dict = {\"a\": 1, \"b\": 2}\n",
    "value = my_dict[\"c\"]\n",
    "\n",
    "# FileNotFoundError: 존재하지 않는 파일을 열려고 시도할 때 발생\n",
    "with open(\"non_existing_file.txt\", \"r\") as file:\n",
    "    content = file.read()\n"
   ]
  }
 ],
 "metadata": {
  "kernelspec": {
   "display_name": "base",
   "language": "python",
   "name": "python3"
  },
  "language_info": {
   "codemirror_mode": {
    "name": "ipython",
    "version": 3
   },
   "file_extension": ".py",
   "mimetype": "text/x-python",
   "name": "python",
   "nbconvert_exporter": "python",
   "pygments_lexer": "ipython3",
   "version": "3.10.9"
  },
  "orig_nbformat": 4
 },
 "nbformat": 4,
 "nbformat_minor": 2
}
