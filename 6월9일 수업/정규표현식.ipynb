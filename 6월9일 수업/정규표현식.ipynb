{
 "cells": [
  {
   "attachments": {},
   "cell_type": "markdown",
   "metadata": {},
   "source": [
    "정규표현식이란?\n",
    "정규표현식(Regular Expression)은 문자열을 처리하는 패턴을 정의하는데 사용되는 형식 언어입니다. 정규표현식은 문자열의 검색(search)과 치환(replace) 작업에 사용됩니다.\n",
    "정규표현식의 구성 요소\n",
    "정규표현식은 메타 문자(meta character)와 리터럴(literal)로 이루어져 있습니다. 메타 문자는 특별한 의미를 가지며, 리터럴은 문자 그대로를 의미합니다."
   ]
  },
  {
   "attachments": {},
   "cell_type": "markdown",
   "metadata": {},
   "source": [
    "정규표현식에서 사용되는 일부 메타문자들\n",
    ". : 줄바꿈 문자(\\n)를 제외한 모든 문자와 매칭됩니다.\n",
    "^ : 문자열의 시작과 매칭됩니다.\n",
    "$ : 문자열의 끝과 매칭됩니다.\n",
    "* : 앞의 문자가 0번 이상 반복되는 패턴과 매칭됩니다.\n",
    "+ : 앞의 문자가 1번 이상 반복되는 패턴과 매칭됩니다.\n",
    "? : 앞의 문자가 0번 또는 1번 나타나는 패턴과 매칭됩니다.\n",
    "[] : 대괄호 안에 나열된 문자 중 하나와 매칭됩니다.\n",
    "[a-z] : 알파벳 소문자 중 하나와 매칭됩니다.\n",
    "[A-Z] : 알파벳 대문자 중 하나와 매칭됩니다.\n",
    "[0-9] : 숫자 중 하나와 매칭됩니다.\n",
    "| : OR 연산자 역할을 하며, 왼쪽 또는 오른쪽 패턴 중 하나와 매칭됩니다.\n",
    "() : 그룹핑을 위해 사용되며, 매칭 결과에 대한 그룹을 생성합니다.\n",
    "{} : 중괄호 안에 숫자가 들어가며, 앞의 문자나 패턴이 해당 숫자만큼 나타나는 패턴과 매칭됩니다.\n",
    "() : 그룹핑을 위해 사용되며, 매칭 결과에 대한 그룹을 생성합니다.\n",
    "\\ : 이스케이프 문자로 사용되며, 메타문자를 문자 그대로 매칭시키기 위해 사용됩니다.\n",
    "\\d : 숫자와 매칭됩니다.\n",
    "\\D : 숫자가 아닌 문자와 매칭됩니다.\n",
    "\\w : 숫자와 알파벳(대소문자), 언더스코어(_)와 매칭됩니다.\n",
    "\\W : 숫자와 알파벳(대소문자), 언더스코어(_)가 아닌 문자와 매칭됩니다.\n",
    "\\s : 공백 문자와 매칭됩니다.\n",
    "\\S : 공백 문자가 아닌 문자와 매칭됩니다.\n",
    "\n",
    "정규표현식의 리터럴\n",
    "정규표현식의 리터럴은 문자 그대로를 의미합니다. 예를 들어, \"hello\"는 정규표현식에서 \"hello\"라는 문자 그대로를 의미합니다.\n",
    "\n",
    "a+ = a가 하나이상인 값을 모두 찾아준다.\n",
    "a\n",
    "aa\n",
    "aaa\n",
    "aaaa\n",
    "\n",
    "괄호 안에있는 숫자를 as에대입후 각 데이터를 찾는다.\n",
    "[12345]as\n",
    "1as\n",
    "2as\n",
    "3as\n",
    "4as\n",
    "5as\n",
    "\n",
    "a ~ z까지 모든 알파벳을 넣어서 찾아준다.\n",
    "[a-z]as\n",
    "aas\n",
    "bas\n",
    "...\n",
    "zas\n",
    "\n",
    "was or cat을 찾는다.\n",
    "was|cat\n",
    "was\n",
    "cat"
   ]
  },
  {
   "attachments": {},
   "cell_type": "markdown",
   "metadata": {},
   "source": [
    "문자열 매칭이란?\n",
    "\n",
    "문자열 매칭(pattern matching)은 정규표현식을 사용하여 문자열 내에서 특정한 패턴을 검색하는 과정입니다.\n",
    "re.match() 함수\n",
    "re.match() 함수는 문자열의 시작에서 패턴을 찾아서 반환합니다. 예를 들어, re.match(r\"abc\", \"abcdef\")는 \"abc\"와 매칭됩니다.\n",
    "re.search() 함수\n",
    "re.search() 함수는 문자열 내에서 패턴을 검색하여 반환합니다. 예를 들어, re.search(r\"abc\", \"defabc\")는 \"abc\"와 매칭됩니다.\n",
    "\n",
    "r을 붙인 패턴 문자열은 Raw String(원시 문자열)로 해석되어 백슬래시를 이스케이프 문자가 아니라 일반 문자로 처리됩니다.\n"
   ]
  },
  {
   "attachments": {},
   "cell_type": "markdown",
   "metadata": {},
   "source": []
  },
  {
   "cell_type": "code",
   "execution_count": 1,
   "metadata": {},
   "outputs": [
    {
     "name": "stdout",
     "output_type": "stream",
     "text": [
      "매칭된 문자열: python\n",
      "매칭되지 않음\n",
      "매칭되지 않음\n"
     ]
    }
   ],
   "source": [
    "# match 함수 예시\n",
    "import re\n",
    "\n",
    "# 문자열의 시작부터 정규표현식과 매칭되는 패턴 찾기\n",
    "pattern = r\"python\"\n",
    "string1 = \"python is easy\"\n",
    "string2 = \"I love python\"\n",
    "string3 = \"Python is fun\"\n",
    "\n",
    "match1 = re.match(pattern, string1)\n",
    "match2 = re.match(pattern, string2)\n",
    "match3 = re.match(pattern, string3)\n",
    "\n",
    "if match1:\n",
    "    print(\"매칭된 문자열:\", match1.group())  # 매칭된 문자열: python\n",
    "else:\n",
    "    print(\"매칭되지 않음\")\n",
    "\n",
    "if match2:\n",
    "    print(\"매칭된 문자열:\", match2.group())\n",
    "else:\n",
    "    print(\"매칭되지 않음\")\n",
    "\n",
    "if match3:\n",
    "    print(\"매칭된 문자열:\", match3.group())\n",
    "else:\n",
    "    print(\"매칭되지 않음\")\n"
   ]
  },
  {
   "cell_type": "code",
   "execution_count": null,
   "metadata": {},
   "outputs": [],
   "source": [
    "# search 함수 예시\n",
    "import re\n",
    "\n",
    "# 문자열 전체에서 정규표현식과 매칭되는 패턴 찾기\n",
    "pattern = r\"python\"\n",
    "string1 = \"python is easy\"\n",
    "string2 = \"I love python\"\n",
    "string3 = \"Python is fun\"\n",
    "\n",
    "match1 = re.search(pattern, string1)\n",
    "match2 = re.search(pattern, string2)\n",
    "match3 = re.search(pattern, string3)\n",
    "\n",
    "if match1:\n",
    "    print(\"매칭된 문자열:\", match1.group())  # 매칭된 문자열: python\n",
    "else:\n",
    "    print(\"매칭되지 않음\")\n",
    "\n",
    "if match2:\n",
    "    print(\"매칭된 문자열:\", match2.group())  # 매칭된 문자열: python\n",
    "else:\n",
    "    print(\"매칭되지 않음\")\n",
    "\n",
    "if match3:\n",
    "    print(\"매칭된 문자열:\", match3.group())\n",
    "else:\n",
    "    print(\"매칭되지 않음\")\n"
   ]
  },
  {
   "attachments": {},
   "cell_type": "markdown",
   "metadata": {},
   "source": [
    "문자열 추출이란?\n",
    "\n",
    "문자열 추출은 정규표현식을 사용하여 문자열 내에서 특정한 패턴을 검색하고 추출하는 과정입니다.\n",
    "\n",
    "**re.findall() 함수**\n",
    "\n",
    "re.findall() 함수는 문자열 내에서 패턴과 매칭된 모든 부분을 리스트로 반환합니다. 예를 들어, re.findall(\"a\", \"abcdaa 반환합니다.\n",
    "a\")는 ['a', 'a', 'a', 'a']와 같은 리스트를\n"
   ]
  },
  {
   "cell_type": "code",
   "execution_count": 2,
   "metadata": {},
   "outputs": [
    {
     "name": "stdout",
     "output_type": "stream",
     "text": [
      "['2', '3']\n",
      "['1', '5']\n",
      "['12345678']\n"
     ]
    }
   ],
   "source": [
    "# findall 함수 예시\n",
    "import re\n",
    "\n",
    "# 문자열에서 정규표현식과 매칭되는 모든 패턴 찾기\n",
    "pattern = r\"\\d+\"\n",
    "string1 = \"I have 2 apples and 3 oranges\"\n",
    "string2 = \"The temperature is -1.5 degrees Celsius\"\n",
    "string3 = \"The password is 12345678\"\n",
    "\n",
    "matches1 = re.findall(pattern, string1)\n",
    "matches2 = re.findall(pattern, string2)\n",
    "matches3 = re.findall(pattern, string3)\n",
    "\n",
    "print(matches1)  # ['2', '3']\n",
    "print(matches2)  # ['-1', '5']\n",
    "print(matches3)  # ['12345678']\n"
   ]
  },
  {
   "attachments": {},
   "cell_type": "markdown",
   "metadata": {},
   "source": [
    "문자열 치환이란?\n",
    "\n",
    "문자열 치환은 정규표현식을 사용하여 문자열 내에서 특정한 패턴을 검색하고 다른 문자열로 치환하는 과정입니다.\n",
    "\n",
    "# re.sub() 함수\n",
    "re.sub() 함수는 문자열 내에서 패턴과 매칭된 부분을 다른 문자열로 치환합니다. \n",
    "\n",
    "\n",
    "pattern: 정규표현식 패턴\n",
    "repl: 치환할 문자열 또는 치환 함수\n",
    "string: 대상 문자열\n",
    "count: 치환할 최대 개수 (생략 가능)\n",
    "flags: 정규표현식 옵션 (생략 가능)\n",
    "\n"
   ]
  },
  {
   "cell_type": "code",
   "execution_count": 3,
   "metadata": {},
   "outputs": [
    {
     "name": "stdout",
     "output_type": "stream",
     "text": [
      "I have 10 apples and 10 oranges\n",
      "The temperature is -0.0 degrees Celsius\n",
      "The password is ***\n"
     ]
    }
   ],
   "source": [
    "# sub 함수 예시\n",
    "import re\n",
    "\n",
    "# 문자열에서 정규표현식과 매칭되는 모든 패턴을 다른 문자열로 대체하기\n",
    "pattern = r\"\\d+\"\n",
    "string1 = \"I have 2 apples and 3 oranges\"\n",
    "string2 = \"The temperature is -1.5 degrees Celsius\"\n",
    "string3 = \"The password is 12345678\"\n",
    "\n",
    "result1 = re.sub(pattern, \"10\", string1)\n",
    "result2 = re.sub(pattern, \"0\", string2)\n",
    "result3 = re.sub(pattern, \"***\", string3)\n",
    "\n",
    "print(result1)  # I have 10 apples and 10 oranges\n",
    "print(result2)  # The temperature is -0.0 degrees Celsius\n",
    "print(result3)  # The password is ***\n"
   ]
  },
  {
   "attachments": {},
   "cell_type": "markdown",
   "metadata": {},
   "source": [
    "그룹핑은소괄호(())로 표현하며, 그룹핑된 문자열은 ()안에 위치합니다. \n",
    "그룹핑된 문자열은 해당 그룹핑의 순서대로 1, 2, 3...과 같은 그룹핑 인덱스를 부여받습니다. \n",
    "\n",
    "유용한 상황\n",
    "매칭된 패턴에서 특정 부분만 추출하고자 할 때\n",
    "매칭된 패턴에서 특정 부분을 치환하고자 할 때\n",
    "\n",
    "그룹핑 추출 예시\n",
    "전화번호에서 지역번호와 나머지 번호를 각각 추출"
   ]
  },
  {
   "cell_type": "code",
   "execution_count": 4,
   "metadata": {},
   "outputs": [
    {
     "name": "stdout",
     "output_type": "stream",
     "text": [
      "010\n",
      "1234-5678\n"
     ]
    }
   ],
   "source": [
    "#그룹핑\n",
    "import re\n",
    "\n",
    "phone_number = \"010-1234-5678\"\n",
    "pattern = r\"(\\d{2,3})-(\\d{3,4})-(\\d{4})\"\n",
    "result = re.match(pattern, phone_number)\n",
    "\n",
    "area_code = result.group(1)\n",
    "phone_number_without_area_code = result.group(2) + \"-\" + result.group(3)\n",
    "\n",
    "print(area_code)  # 010\n",
    "print(phone_number_without_area_code)  # 1234-5678\n"
   ]
  },
  {
   "cell_type": "code",
   "execution_count": 5,
   "metadata": {},
   "outputs": [
    {
     "name": "stdout",
     "output_type": "stream",
     "text": [
      "03/18/2022\n"
     ]
    }
   ],
   "source": [
    "#그룹핑 치환 예시\n",
    "import re\n",
    "\n",
    "date = \"2022-03-18\"\n",
    "pattern = r\"(\\d{4})-(\\d{2})-(\\d{2})\"\n",
    "result = re.sub(pattern, r\"\\2/\\3/\\1\", date)\n",
    "\n",
    "print(result)  # \"03/18/2022\"\n"
   ]
  },
  {
   "cell_type": "code",
   "execution_count": 6,
   "metadata": {},
   "outputs": [
    {
     "name": "stdout",
     "output_type": "stream",
     "text": [
      "Yuna Kim\n"
     ]
    }
   ],
   "source": [
    "import re\n",
    "\n",
    "# 이름 순서 바꾸기\n",
    "string = \"Kim, Yuna\"\n",
    "pattern = r\"(\\w+),\\s*(\\w+)\"\n",
    "result = re.sub(pattern, r\"\\2 \\1\", string)\n",
    "print(result)  # \"Yuna Kim\""
   ]
  },
  {
   "attachments": {},
   "cell_type": "markdown",
   "metadata": {},
   "source": [
    "# 패턴 옵션\n",
    "정규표현식에서 사용되는 패턴 옵션은 대소문자 무시, 다중행 모드 등이 있습니다.\n",
    "\n",
    "re.IGNORECASE 또는 re.I 옵션\n",
    "re.IGNORECASE 옵션은 대소문자를 무시합니다. 예를 들어, re.findall(r\"a\", \"AbCdAaA\", re.IGNORECASE)는 ['A', 'a', 'A', 'a', 'A']와 같은 리스트를 반환합니다.\n",
    "re.MULTILINE 또는 re.M 옵션\n",
    "re.MULTILINE 옵션은 다중행 모드를 사용합니다. 예를 들어, \"abc\\ndef\\nghi\"라는 문자열에서 r\"^g\"를 검색할 때, re.MULTILINE 옵션이 적용되면 \"g\"와 매칭됩니다.\n",
    "\n"
   ]
  },
  {
   "cell_type": "code",
   "execution_count": 7,
   "metadata": {},
   "outputs": [
    {
     "name": "stdout",
     "output_type": "stream",
     "text": [
      "[]\n",
      "['Python']\n"
     ]
    }
   ],
   "source": [
    "string = \"Python is an interpreted language\"\n",
    "\n",
    "import re\n",
    "\n",
    "pattern = 'python'\n",
    "result = re.findall(pattern, string)\n",
    "print(result)  # []\n",
    "\n",
    "result = re.findall(pattern, string, re.IGNORECASE)\n",
    "print(result)  # ['Python']\n"
   ]
  },
  {
   "cell_type": "code",
   "execution_count": 8,
   "metadata": {},
   "outputs": [
    {
     "name": "stdout",
     "output_type": "stream",
     "text": [
      "['Python', 'typed']\n"
     ]
    }
   ],
   "source": [
    "string = \"\"\"Python is an interpreted language\n",
    "It is dynamically typed\n",
    "And it is easy to learn\"\"\"\n",
    "\n",
    "\n",
    "import re\n",
    "\n",
    "pattern = '^Python|typed$'\n",
    "result = re.findall(pattern, string, re.MULTILINE)\n",
    "print(result)  # ['Python', 'typed']\n"
   ]
  },
  {
   "cell_type": "code",
   "execution_count": 9,
   "metadata": {},
   "outputs": [
    {
     "name": "stdout",
     "output_type": "stream",
     "text": [
      "['john.doe123@example.com', 'jane@example.co.uk']\n"
     ]
    }
   ],
   "source": [
    "# 이메일 주소 추출\n",
    "import re\n",
    "\n",
    "def extract_email(string):\n",
    "    pattern = r'\\b[A-Za-z0-9._%+-]+@[A-Za-z0-9.-]+\\.[A-Z|a-z]{2,}\\b'\n",
    "    emails = re.findall(pattern, string)\n",
    "    return emails\n",
    "\n",
    "\n",
    "string = \"John's email is john.doe123@example.com. Jane can be reached at jane@example.co.uk.\"\n",
    "\n",
    "emails = extract_email(string)\n",
    "print(emails)  # ['john.doe123@example.com', 'jane@example.co.uk']\n"
   ]
  },
  {
   "attachments": {},
   "cell_type": "markdown",
   "metadata": {},
   "source": [
    "\n",
    "# 정규표현식을 활용한 실제 예제\n",
    "\n",
    "r'\\b[A-Za-z0-9._%+-]+@[A-Za-z0-9.-]+\\.[A-Z|a-z]{2,}\\b'\n",
    "\n",
    "\\b : 단어 경계\n",
    "[A-Za-z0-9._%+-]+ : 이메일 주소의 로컬 파트(local part)로 사용될 수 있는 문자들\n",
    "@ : 이메일 주소의 구분자\n",
    "[A-Za-z0-9.-]+ : 이메일 주소의 도메인 파트(domain part)로 사용될 수 있는 문자들\n",
    "\\. : 도메인 파트와 TLD(top-level domain)를 구분하는 점(.)\n",
    "[A-Z|a-z]{2,} : TLD로 사용될 수 있는 대문자 또는 소문자 문자들, 최소 2자리 이상\n",
    "\n"
   ]
  },
  {
   "cell_type": "code",
   "execution_count": 10,
   "metadata": {},
   "outputs": [
    {
     "name": "stdout",
     "output_type": "stream",
     "text": [
      "True\n",
      "True\n",
      "False\n",
      "False\n",
      "False\n"
     ]
    }
   ],
   "source": [
    "# 메일 주소의 유효성 검증\n",
    "import re\n",
    "\n",
    "def is_valid_email(email):\n",
    "    pattern = r'^[a-zA-Z0-9+-_.]+@[a-zA-Z0-9-]+\\.[a-zA-Z0-9-.]+$'\n",
    "    if re.match(pattern, email):\n",
    "        return True\n",
    "    else:\n",
    "        return False\n",
    "\n",
    "email1 = 'example@example.com'\n",
    "email2 = 'example@example.co.kr'\n",
    "email3 = 'example.example.com'\n",
    "email4 = 'example@example.'\n",
    "email5 = 'example@example'\n",
    "\n",
    "print(is_valid_email(email1))  # True\n",
    "print(is_valid_email(email2))  # True\n",
    "print(is_valid_email(email3))  # False\n",
    "print(is_valid_email(email4))  # False\n",
    "print(is_valid_email(email5))  # False\n"
   ]
  },
  {
   "cell_type": "code",
   "execution_count": 11,
   "metadata": {},
   "outputs": [
    {
     "name": "stdout",
     "output_type": "stream",
     "text": [
      "True\n",
      "False\n",
      "False\n"
     ]
    }
   ],
   "source": [
    "#정규표현식을 사용한 데이터 유효성 검증\n",
    "#전화번호 유효성 검증하는 예제\n",
    "\n",
    "import re\n",
    "\n",
    "def is_valid_phone_number(phone_number):\n",
    "    pattern = r'^\\d{3}-\\d{3,4}-\\d{4}$'\n",
    "    if re.match(pattern, phone_number):\n",
    "        return True\n",
    "    else:\n",
    "        return False\n",
    "\n",
    "phone_number1 = '010-1234-5678'\n",
    "phone_number2 = '02-123-4567'\n",
    "phone_number3 = '123-4567'\n",
    "\n",
    "print(is_valid_phone_number(phone_number1))  # True\n",
    "print(is_valid_phone_number(phone_number2))  # False\n",
    "print(is_valid_phone_number(phone_number3))  # False\n"
   ]
  }
 ],
 "metadata": {
  "kernelspec": {
   "display_name": "base",
   "language": "python",
   "name": "python3"
  },
  "language_info": {
   "codemirror_mode": {
    "name": "ipython",
    "version": 3
   },
   "file_extension": ".py",
   "mimetype": "text/x-python",
   "name": "python",
   "nbconvert_exporter": "python",
   "pygments_lexer": "ipython3",
   "version": "3.10.9"
  },
  "orig_nbformat": 4
 },
 "nbformat": 4,
 "nbformat_minor": 2
}
