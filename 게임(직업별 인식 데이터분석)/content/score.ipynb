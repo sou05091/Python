{
 "cells": [
  {
   "cell_type": "code",
   "execution_count": 13,
   "metadata": {},
   "outputs": [
    {
     "name": "stdout",
     "output_type": "stream",
     "text": [
      "Non-zero Rows:\n",
      "                                                 [잡담]  score\n",
      "0   이제 고대 악세 맞출때가 왔는데..극신으로 갈려고 합니다돌은 76돌 원한 7 돌격대...     -2\n",
      "3   유튜브도 많이 보고 트리시온에서 스킬 사이클 굴리는 연습도 하는데 레이드 가면 패턴...     -1\n",
      "8                       카멘때 로아 접을꺼 아님 갈아타자 미래가 이미 훤하다      1\n",
      "9   지속시간 내 백어택 시 10% 추가 피해 정도면괜찮지 않으려나요..대외적으로 나름의...     -1\n",
      "13  머리가 어질어질 하군요..21강 두 부위도 90인가에 성공하고20강 이후부턴 정말 ...     -1\n",
      "16  안녕하세요, 로스트아크입니다.5월 12일(금) 부터 테스트 서버 오픈 일정이 예정되...      6\n",
      "17  2년동안 고통받고 꾹참고 했는데 저번 밸패 망하니로아 이미 맘떠서 재미 하나도 없고...      2\n",
      "19  제발 본인 쎈거 잘 알 았으니까1-2개 크리 졸라 잘 뜬 영상 제발 올리지마...괜...      2\n",
      "20  지인으로 들어가는 거 말고 순수 100% 공팟&통디 취업으로 봤을 때 기냥 지금마냥...     -2\n",
      "34  1월에  여론패치로 버프 나가리되고본섭 들어오기전까지 역대급 단합으로 누워도병먹금도...      1\n",
      "Total Score:\n",
      "-53\n"
     ]
    }
   ],
   "source": [
    "import pandas as pd\n",
    "import json\n",
    "import re\n",
    "\n",
    "# JSON 파일 읽기\n",
    "with open('SentiWord_info.json', mode='r', encoding='utf-8-sig') as file:\n",
    "    json_data = json.load(file)\n",
    "\n",
    "# JSON 데이터를 단어와 점수로 매핑하는 사전 생성\n",
    "word_scores = {item['word']: int(item['polarity']) for item in json_data}\n",
    "\n",
    "# CSV 파일 읽기\n",
    "df = pd.read_csv('리퍼(category_content).csv', encoding='utf-8-sig')\n",
    "df = df[['[잡담]']]\n",
    "\n",
    "\n",
    "# 특정 단어 열에 대해 점수 매기기\n",
    "word_column = '[잡담]'  # 점수를 매길 열 이름\n",
    "score_column = 'score'  # 점수를 저장할 열 이름\n",
    "\n",
    "#df = df.drop(df[df[word_column].str.contains(\"\\?\")].index)\n",
    "\n",
    "def get_word_score(text):\n",
    "    words = re.findall(r'\\b\\w+\\b', text)  # 단어 추출 (한국어는 형태소 분석기를 사용해야 정확한 단어 추출이 가능합니다.)\n",
    "    scores = [word_scores.get(word, 0) for word in words]  # 단어에 해당하는 점수 매핑\n",
    "    return sum(scores)  # 점수의 합 반환\n",
    "\n",
    "df[word_column] = df[word_column].astype(str)\n",
    "df[score_column] = df[word_column].apply(get_word_score)\n",
    "non_zero_rows = df[df['score'] != 0]\n",
    "# 결과 출력\n",
    "print(\"Non-zero Rows:\")\n",
    "print(non_zero_rows.head(10))\n",
    "print(\"Total Score:\")\n",
    "print(df[score_column].sum())\n",
    "\n"
   ]
  }
 ],
 "metadata": {
  "kernelspec": {
   "display_name": "Python 3",
   "language": "python",
   "name": "python3"
  },
  "language_info": {
   "codemirror_mode": {
    "name": "ipython",
    "version": 3
   },
   "file_extension": ".py",
   "mimetype": "text/x-python",
   "name": "python",
   "nbconvert_exporter": "python",
   "pygments_lexer": "ipython3",
   "version": "3.11.3"
  },
  "orig_nbformat": 4
 },
 "nbformat": 4,
 "nbformat_minor": 2
}
