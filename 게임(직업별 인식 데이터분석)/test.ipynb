{
 "cells": [
  {
   "cell_type": "code",
   "execution_count": 1,
   "metadata": {},
   "outputs": [
    {
     "name": "stdout",
     "output_type": "stream",
     "text": [
      "output.csv 파일이 디렉토리에 존재합니다.\n"
     ]
    }
   ],
   "source": [
    "import os\n",
    "\n",
    "current_directory = os.getcwd()\n",
    "files_in_directory = os.listdir(current_directory)\n",
    "\n",
    "if 'output.csv' in files_in_directory:\n",
    "    print(\"output.csv 파일이 디렉토리에 존재합니다.\")\n",
    "else:\n",
    "    print(\"output.csv 파일을 찾을 수 없습니다.\")\n"
   ]
  },
  {
   "cell_type": "code",
   "execution_count": 4,
   "metadata": {},
   "outputs": [
    {
     "name": "stdout",
     "output_type": "stream",
     "text": [
      "                          제목\n",
      "0                  인증 세팅 가이드\n",
      "1           인증압도적인 안정성,  가이드\n",
      "2        인증지속-폭딜 하이브리드!  가이드\n",
      "3       인증 세팅 가이드 - 23.05.21\n",
      "4     인증점화소서 FAQ 정리 22.10.09\n",
      "...                      ...\n",
      "2213      ●▅▇█▇▆▅▄▇ 가진게 딜뿐인데\n",
      "2214         이게 다 환각 예둔 때문이야\n",
      "2215   ●▅▇█▇▆▅▄▇ 무력 카운터 개선해라\n",
      "2216   ●▅▇█▇▆▅▄▇ 유산 충모 초심 버프\n",
      "2217           ●▅▇█▇▅▄▄▌누워시밤\n",
      "\n",
      "[2218 rows x 1 columns]\n"
     ]
    }
   ],
   "source": [
    "import pandas as pd\n",
    "import matplotlib.pyplot as plt\n",
    "\n",
    "df = pd.read_csv('output.csv', encoding='utf-8-sig')\n",
    "\n",
    "# 문자열 형식으로 변환\n",
    "df['제목'] = df['제목'].astype(str)\n",
    "\n",
    "# 정규 표현식을 사용하여 '[...]' 형식의 텍스트 제거\n",
    "df['제목'] = df['제목'].str.replace(r'\\[.*?\\]', '', regex=True)\n",
    "\n",
    "print(df)"
   ]
  },
  {
   "cell_type": "code",
   "execution_count": 44,
   "metadata": {},
   "outputs": [
    {
     "name": "stdout",
     "output_type": "stream",
     "text": [
      "                                             제목  score\n",
      "11          [잡담]특치 악몽 소서 하려구하는데 각인은 어캐 맞춰야하나요!?     -2\n",
      "31                 [잡담]특치 원점타속예아1 악몽 달인은 별로인가요?     -2\n",
      "33                    [잡담]악몽 점화 두껍스 노아드노암폭 팟 영상     -2\n",
      "40                     [잡담]팔찌 새로 맞추다가 돈 다날리겠네 ㅠ     -1\n",
      "47                 [잡담]악몽 끝마 평타 컨트롤 이게 당연한거였나요?     -2\n",
      "59          [잡담]특치 악몽 소서 하려구하는데 각인은 어캐 맞춰야하나요!?     -2\n",
      "79                 [잡담]특치 원점타속예아1 악몽 달인은 별로인가요?     -2\n",
      "81                    [잡담]악몽 점화 두껍스 노아드노암폭 팟 영상     -2\n",
      "88                     [잡담]팔찌 새로 맞추다가 돈 다날리겠네 ㅠ     -1\n",
      "95                 [잡담]악몽 끝마 평타 컨트롤 이게 당연한거였나요?     -2\n",
      "106                          [잡담]소서 각인 도움 청합니다.      1\n",
      "111                    [잡담]하의 효율 조언 좀 해 주실 분...     -2\n",
      "112               [잡담]안녕하세요 친구 가르쳐주다가 궁금한게 있어서요      1\n",
      "113                   [잡담]형님들 쾌적한 점화세팅 추천부탁드립니다      2\n",
      "123                        [잡담]스포 분배 어케하고 계세요??     -1\n",
      "144  [잡담]점화 소서 악몽 원한 속속 점화 타대 정단 아드 333331 어떤가요     -4\n",
      "153                    [잡담]10홍 사려고하는데 종말 vs 리액트     -1\n",
      "154                 [잡담]하브 2관 1인버스 기준 젤 좋은 빌드는?      2\n",
      "164              [잡담]특치 악몽 팔찌 신속 82 착용시 체감 있나요?     -2\n",
      "214                 [잡담]소서 각인중 저받보다 예둔효율이 더 좋음?      2\n",
      "-104\n"
     ]
    }
   ],
   "source": [
    "import pandas as pd\n",
    "import json\n",
    "import re\n",
    "\n",
    "# JSON 파일 읽기\n",
    "with open('SentiWord_info.json', mode='r', encoding='utf-8-sig') as file:\n",
    "    json_data = json.load(file)\n",
    "\n",
    "# JSON 데이터를 단어와 점수로 매핑하는 사전 생성\n",
    "word_scores = {item['word']: int(item['polarity']) for item in json_data}\n",
    "\n",
    "# CSV 파일 읽기\n",
    "df = pd.read_csv('output.csv', encoding='utf-8-sig')\n",
    "\n",
    "# 특정 단어 열에 대해 점수 매기기\n",
    "word_column = '제목'  # 점수를 매길 열 이름\n",
    "score_column = 'score'  # 점수를 저장할 열 이름\n",
    "\n",
    "def get_word_score(text):\n",
    "    words = re.findall(r'\\b\\w+\\b', text)  # 단어 추출 (한국어는 형태소 분석기를 사용해야 정확한 단어 추출이 가능합니다.)\n",
    "    scores = [word_scores.get(word, 0) for word in words]  # 단어에 해당하는 점수 매핑\n",
    "    return sum(scores)  # 점수의 합 반환\n",
    "\n",
    "df[score_column] = df[word_column].apply(get_word_score)\n",
    "non_zero_rows = df[df['score'] != 0]\n",
    "# 결과 출력\n",
    "print(non_zero_rows.head(20))\n",
    "print(df[score_column].sum())\n"
   ]
  }
 ],
 "metadata": {
  "kernelspec": {
   "display_name": "Python 3",
   "language": "python",
   "name": "python3"
  },
  "language_info": {
   "codemirror_mode": {
    "name": "ipython",
    "version": 3
   },
   "file_extension": ".py",
   "mimetype": "text/x-python",
   "name": "python",
   "nbconvert_exporter": "python",
   "pygments_lexer": "ipython3",
   "version": "3.11.3"
  },
  "orig_nbformat": 4
 },
 "nbformat": 4,
 "nbformat_minor": 2
}
