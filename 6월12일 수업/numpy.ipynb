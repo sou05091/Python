{
 "cells": [
  {
   "cell_type": "code",
   "execution_count": 1,
   "metadata": {},
   "outputs": [
    {
     "name": "stdout",
     "output_type": "stream",
     "text": [
      "[[[1 2]\n",
      "  [3 4]]\n",
      "\n",
      " [[5 6]\n",
      "  [7 8]]]\n",
      "[[[[ 1  2]\n",
      "   [ 3  4]]\n",
      "\n",
      "  [[ 5  6]\n",
      "   [ 7  8]]]\n",
      "\n",
      "\n",
      " [[[ 9 10]\n",
      "   [11 12]]\n",
      "\n",
      "  [[13 14]\n",
      "   [15 16]]]]\n"
     ]
    }
   ],
   "source": [
    "# 배열 생성\n",
    "import numpy as np\n",
    "\n",
    "# 3차원 배열 생성\n",
    "arr3d = np.array([[[1, 2], [3, 4]], [[5, 6], [7, 8]]])\n",
    "print(arr3d)\n",
    "\n",
    "# 4차원 배열 생성\n",
    "arr4d = np.array([[[[1, 2], [3, 4]], [[5, 6], [7, 8]]], [[[9, 10], [11, 12]], [[13, 14], [15, 16]]]])\n",
    "print(arr4d)\n"
   ]
  },
  {
   "cell_type": "code",
   "execution_count": 3,
   "metadata": {},
   "outputs": [
    {
     "name": "stdout",
     "output_type": "stream",
     "text": [
      "[2 4 6 8]\n",
      "[0.  0.1 0.2 0.3 0.4 0.5 0.6 0.7 0.8 0.9]\n",
      "[1. 2. 3. 4. 5.]\n"
     ]
    },
    {
     "name": "stderr",
     "output_type": "stream",
     "text": [
      "C:\\Users\\user\\AppData\\Local\\Temp\\ipykernel_12860\\2645054199.py:14: DeprecationWarning: `np.float` is a deprecated alias for the builtin `float`. To silence this warning, use `float` by itself. Doing this will not modify any behavior and is safe. If you specifically wanted the numpy scalar type, use `np.float64` here.\n",
      "Deprecated in NumPy 1.20; for more details and guidance: https://numpy.org/devdocs/release/1.20.0-notes.html#deprecations\n",
      "  arr4 = np.arange(1, 6, dtype=np.float)\n"
     ]
    }
   ],
   "source": [
    "import numpy as np\n",
    "\n",
    "# start, stop, step 지정\n",
    "arr2 = np.arange(2, 10, 2)\n",
    "print(arr2)\n",
    "# 출력: [2 4 6 8]\n",
    "\n",
    "# 부동 소수점 사용\n",
    "arr3 = np.arange(0, 1, 0.1)\n",
    "print(arr3)\n",
    "# 출력: [0.  0.1 0.2 0.3 0.4 0.5 0.6 0.7 0.8 0.9]\n",
    "\n",
    "# dtype 지정\n",
    "arr4 = np.arange(1, 6, dtype=np.float)\n",
    "print(arr4)\n",
    "# 출력: [1. 2. 3. 4. 5.]\n"
   ]
  },
  {
   "cell_type": "code",
   "execution_count": 5,
   "metadata": {},
   "outputs": [
    {
     "name": "stdout",
     "output_type": "stream",
     "text": [
      "[0.28368914 0.13931239 0.14498438 0.64782751 0.23074519]\n"
     ]
    }
   ],
   "source": [
    "import numpy as np\n",
    "arr1 = np.random.rand(5)\n",
    "print(arr1)"
   ]
  },
  {
   "cell_type": "code",
   "execution_count": 6,
   "metadata": {},
   "outputs": [
    {
     "name": "stdout",
     "output_type": "stream",
     "text": [
      "[[0.96336512 0.57579328]\n",
      " [0.67981418 0.65343633]\n",
      " [0.27702991 0.54184819]]\n",
      "[[[0.20592431 0.05070076]\n",
      "  [0.47128541 0.33666225]]\n",
      "\n",
      " [[0.20225226 0.33267103]\n",
      "  [0.64850858 0.36705071]]]\n"
     ]
    }
   ],
   "source": [
    "import numpy as np\n",
    "\n",
    "# 2차원 배열\n",
    "arr2 = np.random.rand(3, 2)\n",
    "print(arr2)\n",
    "# 출력:\n",
    "# [[0.19939998 0.75956173]\n",
    "#  [0.01483635 0.53638077]\n",
    "#  [0.87976498 0.97136662]]\n",
    "\n",
    "# 3차원 배열\n",
    "arr3 = np.random.rand(2, 2, 2)\n",
    "print(arr3)\n",
    "# 출력:\n",
    "# [[[0.59316751 0.39113902]\n",
    "#   [0.18339846 0.53238345]]\n",
    "#\n",
    "#  [[0.48801979 0.71909972]\n",
    "#   [0.52657897 0.23042326]]]\n"
   ]
  },
  {
   "cell_type": "code",
   "execution_count": 7,
   "metadata": {},
   "outputs": [
    {
     "name": "stdout",
     "output_type": "stream",
     "text": [
      "[[ 1.1950395   2.70509884 -0.01710924]\n",
      " [ 1.74446022  0.27913574  1.37997128]]\n",
      "[ 1.46200905  1.0199257  -0.85139463 -0.50441629]\n"
     ]
    }
   ],
   "source": [
    "#random.normal 함수\n",
    "import numpy as np\n",
    "\n",
    "# 평균과 표준 편차 지정\n",
    "arr2 = np.random.normal(loc=1.0, scale=2.0, size=(2, 3))\n",
    "print(arr2)\n",
    "# 출력:\n",
    "# [[ 3.15326523  1.80904146  0.11287371]\n",
    "#  [ 0.59920925 -0.47195788  0.35207441]]\n",
    "# 평균이 1.0이고 표준 편차가 2.0인 2x3 배열을 생성\n",
    "\n",
    "# 형상(shape) 지정\n",
    "arr3 = np.random.normal(size=(4,))\n",
    "print(arr3)\n",
    "# 출력: 크기가 4인 1차원 배열\n"
   ]
  },
  {
   "cell_type": "code",
   "execution_count": 8,
   "metadata": {},
   "outputs": [
    {
     "name": "stdout",
     "output_type": "stream",
     "text": [
      "1\n",
      "5\n",
      "1\n",
      "5\n"
     ]
    }
   ],
   "source": [
    "#배열 인덱싱 및 슬라이싱\n",
    "import numpy as np\n",
    "\n",
    "arr = np.array([1, 2, 3, 4, 5])\n",
    "\n",
    "# 인덱스가 0부터 시작하므로 arr[0]은 첫번째 요소를 의미함\n",
    "print(arr[0])  # 1\n",
    "\n",
    "# 음수 인덱스를 사용하면 배열의 끝부터 요소를 선택할 수 있음\n",
    "print(arr[-1])  # 5\n",
    "\n",
    "# 다차원 배열의 인덱싱\n",
    "arr2d = np.array([[1, 2, 3], [4, 5, 6], [7, 8, 9]])\n",
    "print(arr2d[0, 0])  # 1\n",
    "print(arr2d[1, 1])  # 5\n"
   ]
  },
  {
   "cell_type": "code",
   "execution_count": 9,
   "metadata": {},
   "outputs": [
    {
     "name": "stdout",
     "output_type": "stream",
     "text": [
      "[2 3 4]\n",
      "[[2 3]\n",
      " [5 6]]\n",
      "[2 5 8]\n"
     ]
    },
    {
     "data": {
      "text/plain": [
       "'\\n[2 5 8]\\n'"
      ]
     },
     "execution_count": 9,
     "metadata": {},
     "output_type": "execute_result"
    }
   ],
   "source": [
    "#배열 슬라이싱\n",
    "import numpy as np\n",
    "\n",
    "arr = np.array([1, 2, 3, 4, 5])\n",
    "\n",
    "# 슬라이싱은 [시작:끝:간격] 형식으로 사용\n",
    "print(arr[1:4])  # [2 3 4]\n",
    "\n",
    "# 다차원 배열의 슬라이싱\n",
    "arr2d = np.array([[1, 2, 3], [4, 5, 6], [7, 8, 9]])\n",
    "print(arr2d[0:2, 1:3])\n",
    "'''\n",
    "[[2 3]\n",
    " [5 6]]\n",
    "'''\n",
    "\n",
    "# 모든 행을 선택할 때는 ':'만 사용 가능\n",
    "print(arr2d[:, 1])\n",
    "'''\n",
    "[2 5 8]\n",
    "'''\n"
   ]
  },
  {
   "cell_type": "code",
   "execution_count": 10,
   "metadata": {},
   "outputs": [
    {
     "name": "stdout",
     "output_type": "stream",
     "text": [
      "[1 3 5]\n"
     ]
    }
   ],
   "source": [
    "import numpy as np\n",
    "\n",
    "arr = np.array([1, 2, 3, 4, 5])\n",
    "mask = np.array([True, False, True, False, True])\n",
    "\n",
    "# mask 배열에 True에 해당하는 인덱스의 요소만 선택\n",
    "print(arr[mask])  # [1 3 5]\n"
   ]
  },
  {
   "cell_type": "code",
   "execution_count": 11,
   "metadata": {},
   "outputs": [
    {
     "name": "stdout",
     "output_type": "stream",
     "text": [
      "[1 3 5]\n",
      "[2 9]\n"
     ]
    }
   ],
   "source": [
    "import numpy as np\n",
    "\n",
    "arr = np.array([1, 2, 3, 4, 5])\n",
    "idx = np.array([0, 2, 4])\n",
    "\n",
    "# 인덱스 배열에 해당하는 요소만 선택\n",
    "print(arr[idx])  # [1 3 5]\n",
    "\n",
    "# 다차원 배열에서의 팬시 인덱싱\n",
    "arr2d = np.array([[1, 2, 3], [4, 5, 6], [7, 8, 9]])\n",
    "row_idx = np.array([0, 2])\n",
    "col_idx = np.array([1, 2])\n",
    "\n",
    "# 인덱스 배열로 선택된 요소만 선택\n",
    "print(arr2d[row_idx, col_idx])  # [2 9]\n"
   ]
  },
  {
   "cell_type": "code",
   "execution_count": 12,
   "metadata": {},
   "outputs": [
    {
     "name": "stdout",
     "output_type": "stream",
     "text": [
      "[5 7 9]\n",
      "[-3 -3 -3]\n",
      "[ 4 10 18]\n",
      "[0.25 0.4  0.5 ]\n"
     ]
    }
   ],
   "source": [
    "import numpy as np\n",
    "\n",
    "arr1 = np.array([1, 2, 3])\n",
    "arr2 = np.array([4, 5, 6])\n",
    "\n",
    "# 덧셈 연산\n",
    "print(arr1 + arr2)  # [5 7 9]\n",
    "\n",
    "# 뺄셈 연산\n",
    "print(arr1 - arr2)  # [-3 -3 -3]\n",
    "\n",
    "# 곱셈 연산\n",
    "print(arr1 * arr2)  # [ 4 10 18]\n",
    "\n",
    "# 나눗셈 연산\n",
    "print(arr1 / arr2)  # [0.25 0.4  0.5]\n"
   ]
  },
  {
   "cell_type": "code",
   "execution_count": 13,
   "metadata": {},
   "outputs": [
    {
     "name": "stdout",
     "output_type": "stream",
     "text": [
      "3.0\n",
      "3.0\n",
      "1.4142135623730951\n",
      "2.0\n",
      "5\n",
      "1\n"
     ]
    }
   ],
   "source": [
    "#통계 및 수학 함수\n",
    "import numpy as np\n",
    "\n",
    "# 1차원 배열 생성\n",
    "arr = np.array([1, 2, 3, 4, 5])\n",
    "\n",
    "# 평균 계산\n",
    "print(np.mean(arr))  # 3.0\n",
    "\n",
    "# 중앙값 계산\n",
    "print(np.median(arr))  # 3.0\n",
    "\n",
    "# 표준편차 계산\n",
    "print(np.std(arr))  # 1.4142135623730951\n",
    "\n",
    "# 분산 계산\n",
    "print(np.var(arr))  # 2.0\n",
    "\n",
    "# 최대값, 최소값 계산\n",
    "print(np.max(arr))  # 5\n",
    "print(np.min(arr))  # 1\n"
   ]
  },
  {
   "cell_type": "code",
   "execution_count": 14,
   "metadata": {},
   "outputs": [
    {
     "name": "stdout",
     "output_type": "stream",
     "text": [
      "[-1.40488914  0.51848948 -1.18356042 -0.7777074   0.83563355 -0.89149858\n",
      "  0.95250584 -0.98887367  0.09673238 -0.96766428]\n",
      "[0.6697014  0.97214379 0.46303706 0.8986731  0.8257803  0.38448526\n",
      " 0.06288588 0.62095797 0.08120121 0.22979757]\n",
      "[5 4 4 5 3 4 4 6 3 8]\n",
      "[3 3 3 1 2 5 7 2 5 3]\n"
     ]
    },
    {
     "data": {
      "text/plain": [
       "'\\n[2 2 2 6 2 1 1 1 1 6]\\n'"
      ]
     },
     "execution_count": 14,
     "metadata": {},
     "output_type": "execute_result"
    }
   ],
   "source": [
    "import numpy as np\n",
    "\n",
    "# 정규 분포\n",
    "arr1 = np.random.normal(0, 1, size=10)\n",
    "print(arr1)\n",
    "'''\n",
    "[-1.03175853 -0.26330108  0.50114289  0.43128428  1.52632134\n",
    " -0.11669154 -0.38778772 -0.58322862  0.1852227  -1.12919514]\n",
    "'''\n",
    "\n",
    "# 균등 분포\n",
    "arr2 = np.random.uniform(0, 1, size=10)\n",
    "print(arr2)\n",
    "'''\n",
    "[0.3082703  0.59827088 0.61679035 0.3049514  0.10465949\n",
    " 0.95647913 0.52484807 0.62345654 0.36863133 0.66491068]\n",
    "'''\n",
    "\n",
    "# 이항 분포\n",
    "arr3 = np.random.binomial(10, 0.5, size=10)\n",
    "print(arr3)\n",
    "'''\n",
    "[6 7 6 3 7 3 6 3 7 3]\n",
    "'''\n",
    "\n",
    "# 포아송 분포\n",
    "arr4 = np.random.poisson(3, size=10)\n",
    "print(arr4)\n",
    "'''\n",
    "[2 2 2 6 2 1 1 1 1 6]\n",
    "'''\n"
   ]
  },
  {
   "cell_type": "code",
   "execution_count": 15,
   "metadata": {},
   "outputs": [
    {
     "name": "stdout",
     "output_type": "stream",
     "text": [
      "0    1\n",
      "1    2\n",
      "2    3\n",
      "3    4\n",
      "dtype: int64\n"
     ]
    }
   ],
   "source": [
    "#Series\n",
    "import pandas as pd\n",
    "\n",
    "# Series 생성\n",
    "# 리스트 사용\n",
    "data = pd.Series([1, 2, 3, 4])\n",
    "print(data)\n"
   ]
  },
  {
   "cell_type": "code",
   "execution_count": 17,
   "metadata": {},
   "outputs": [
    {
     "name": "stdout",
     "output_type": "stream",
     "text": [
      "a    1\n",
      "b    2\n",
      "c    3\n",
      "d    4\n",
      "dtype: int64\n",
      "a    1\n",
      "b    2\n",
      "c    3\n",
      "d    4\n",
      "dtype: int64\n"
     ]
    }
   ],
   "source": [
    "# 문자열 인덱스 사용\n",
    "data = pd.Series([1, 2, 3, 4], index=['a', 'b', 'c', 'd'])\n",
    "print(data)\n",
    "\n",
    "# 딕셔너리 사용\n",
    "data1 = {'a': 1, 'b': 2, 'c': 3 , 'd': 4}\n",
    "s1 = pd.Series(data1)\n",
    "print(s1)\n"
   ]
  },
  {
   "cell_type": "code",
   "execution_count": 18,
   "metadata": {},
   "outputs": [
    {
     "data": {
      "image/png": "[encoded data removed]",
      "text/plain": [
       "<Figure size 640x480 with 1 Axes>"
      ]
     },
     "metadata": {},
     "output_type": "display_data"
    }
   ],
   "source": [
    "import pandas as pd\n",
    "import matplotlib.pyplot as plt\n",
    "\n",
    "# 시리즈 데이터 생성\n",
    "sales = pd.Series([100, 120, 150, 160, 180], index=['Jan', 'Feb', 'Mar', 'Apr', 'May'])\n",
    "\n",
    "# 막대 그래프 그리기\n",
    "plt.bar(sales.index, sales.values)\n",
    "\n",
    "# 축과 제목 설정\n",
    "plt.xlabel('Month')\n",
    "plt.ylabel('Sales')\n",
    "plt.title('Monthly Sales')\n",
    "\n",
    "# 그래프 표시\n",
    "plt.show()\n"
   ]
  },
  {
   "cell_type": "code",
   "execution_count": 19,
   "metadata": {},
   "outputs": [
    {
     "name": "stdout",
     "output_type": "stream",
     "text": [
      "a    11.0\n",
      "b     NaN\n",
      "c    33.0\n",
      "d     NaN\n",
      "dtype: float64\n",
      "a    -9.0\n",
      "b     NaN\n",
      "c   -27.0\n",
      "d     NaN\n",
      "dtype: float64\n",
      "a    10.0\n",
      "b     NaN\n",
      "c    90.0\n",
      "d     NaN\n",
      "dtype: float64\n",
      "a    0.1\n",
      "b    NaN\n",
      "c    0.1\n",
      "d    NaN\n",
      "dtype: float64\n"
     ]
    }
   ],
   "source": [
    "import pandas as pd\n",
    "\n",
    "# 시리즈 생성\n",
    "data1 = {'a': 1, 'b': 2, 'c': 3}\n",
    "data2 = {'a': 10, 'c': 30, 'd': 40}\n",
    "s1 = pd.Series(data1)\n",
    "s2 = pd.Series(data2)\n",
    "\n",
    "# 덧셈 연산\n",
    "s = s1 + s2\n",
    "print(s)  # a    11.0, b     NaN, c    33.0, d     NaN\n",
    "           # dtype: float64\n",
    "\n",
    "# 뺄셈 연산\n",
    "s = s1 - s2\n",
    "print(s)  # a    -9.0, b     NaN, c   -27.0, d     NaN\n",
    "           # dtype: float64\n",
    "\n",
    "# 곱셈 연산\n",
    "s = s1 * s2\n",
    "print(s)  # a    10.0, b     NaN, c    90.0, d     NaN\n",
    "           # dtype: float64\n",
    "\n",
    "# 나눗셈 연산\n",
    "s = s1 / s2\n",
    "print(s)  # a    0.1 , b     NaN, c    0.1 , d     NaN\n",
    "           # dtype: float64\n"
   ]
  },
  {
   "cell_type": "code",
   "execution_count": 22,
   "metadata": {},
   "outputs": [
    {
     "name": "stdout",
     "output_type": "stream",
     "text": [
      "   A  B  C\n",
      "0  1  4  7\n",
      "1  2  5  8\n",
      "2  3  6  9\n",
      "   A  B  C\n",
      "0  1  4  7\n",
      "1  2  5  8\n",
      "2  3  6  9\n",
      "   A  B  C\n",
      "0  1  4  7\n",
      "1  2  5  8\n",
      "2  3  6  9\n",
      "   A  B  C\n",
      "0  1  4  7\n",
      "1  2  5  8\n",
      "2  3  6  9\n"
     ]
    }
   ],
   "source": [
    "import pandas as pd\n",
    "import numpy as np\n",
    "\n",
    "# 데이터프레임 생성 방법 1: 딕셔너리를 이용한 데이터프레임 생성\n",
    "df1 = pd.DataFrame({'A': [1, 2, 3], 'B': [4, 5, 6], 'C': [7, 8, 9]})\n",
    "print(df1)\n",
    "\n",
    "# 데이터프레임 생성 방법 2: 리스트를 이용한 데이터프레임 생성\n",
    "data = [[1, 4, 7], [2, 5, 8], [3, 6, 9]]\n",
    "df2 = pd.DataFrame(data, columns=['A', 'B', 'C'])\n",
    "print(df2)\n",
    "\n",
    "# 데이터프레임 생성 방법 3: Numpy 배열을 이용한 데이터프레임 생성\n",
    "arr = np.array([[1, 4, 7], [2, 5, 8], [3, 6, 9]])\n",
    "df3 = pd.DataFrame(arr, columns=['A', 'B', 'C'])\n",
    "print(df3)\n",
    "\n",
    "# 데이터프레임 생성 방법 4: 시리즈를 이용한 데이터프레임 생성\n",
    "s1 = pd.Series([1, 2, 3])\n",
    "s2 = pd.Series([4, 5, 6])\n",
    "s3 = pd.Series([7, 8, 9])\n",
    "df4 = pd.DataFrame({'A': s1, 'B': s2, 'C': s3})\n",
    "print(df4)\n",
    "\n",
    "# 데이터프레임 생성 방법 5: 외부 데이터 파일을 이용한 데이터프레임 생성\n",
    "#df5 = pd.read_csv('data.csv')\n",
    "#print(df5)\n"
   ]
  },
  {
   "cell_type": "code",
   "execution_count": null,
   "metadata": {},
   "outputs": [],
   "source": [
    "import pandas as pd\n",
    "import matplotlib.pyplot as plt\n",
    "\n",
    "# 데이터프레임 생성\n",
    "data = {\n",
    "    'year': [2010, 2011, 2012, 2013, 2014],\n",
    "    'sales': [100, 120, 150, 160, 180],\n",
    "    'expenses': [80, 90, 100, 110, 120]\n",
    "}\n",
    "\n",
    "df = pd.DataFrame(data)\n",
    "\n",
    "# 선 그래프 그리기\n",
    "plt.plot(df['year'], df[['sales', 'expenses']])\n",
    "\n",
    "# 축과 제목 설정\n",
    "plt.xlabel('Year')\n",
    "plt.ylabel('Amount')\n",
    "plt.title('Sales vs Expenses')\n",
    "\n",
    "# 범례 추가\n",
    "plt.legend(['Sales', 'Expenses'])\n",
    "\n",
    "# 그래프 표시\n",
    "plt.show()\n",
    "\n"
   ]
  },
  {
   "attachments": {},
   "cell_type": "markdown",
   "metadata": {},
   "source": [
    "**DataFrame 정보 확인**\n",
    "\n",
    "head(): 데이터프레임에서 상위 5개 데이터를 출력합니다.\n",
    "tail(): 데이터프레임에서 하위 5개 데이터를 출력합니다.\n",
    "info(): 데이터프레임의 정보를 출력합니다. 열 이름, 데이터 타입, 결측치 개수 등을 확인할 수 있습니다.\n",
    "describe(): 데이터프레임에서 수치형 열의 기술 통계 정보를 출력합니다.\n",
    "columns: 데이터프레임의 열 이름을 출력합니다.\n",
    "index: 데이터프레임의 행 인덱스를 출력합니다.\n",
    "dtypes: 데이터프레임의 열의 데이터 타입을 출력합니다.\n",
    "shape: 데이터프레임의 크기를 출력합니다.\n",
    "isnull().sum(): 데이터프레임에서 결측치의 개수를 출력합니다.\n"
   ]
  },
  {
   "cell_type": "code",
   "execution_count": 25,
   "metadata": {},
   "outputs": [
    {
     "name": "stdout",
     "output_type": "stream",
     "text": [
      "head함수\n",
      "      name  age      city\n",
      "0    Alice   25  New York\n",
      "1      Bob   30     Paris\n",
      "2  Charlie   35    London\n",
      "3    David   40    Berlin\n",
      "4      Eva   45     Tokyo\n",
      "tail함수\n",
      "      name  age      city\n",
      "0    Alice   25  New York\n",
      "1      Bob   30     Paris\n",
      "2  Charlie   35    London\n",
      "3    David   40    Berlin\n",
      "4      Eva   45     Tokyo\n",
      "info함수\n",
      "<class 'pandas.core.frame.DataFrame'>\n",
      "RangeIndex: 5 entries, 0 to 4\n",
      "Data columns (total 3 columns):\n",
      " #   Column  Non-Null Count  Dtype \n",
      "---  ------  --------------  ----- \n",
      " 0   name    5 non-null      object\n",
      " 1   age     5 non-null      int64 \n",
      " 2   city    5 non-null      object\n",
      "dtypes: int64(1), object(2)\n",
      "memory usage: 248.0+ bytes\n",
      "None\n",
      "describe함수\n",
      "             age\n",
      "count   5.000000\n",
      "mean   35.000000\n",
      "std     7.905694\n",
      "min    25.000000\n",
      "25%    30.000000\n",
      "50%    35.000000\n",
      "75%    40.000000\n",
      "max    45.000000\n",
      "columns함수\n",
      "Index(['name', 'age', 'city'], dtype='object')\n",
      "index함수\n",
      "RangeIndex(start=0, stop=5, step=1)\n",
      "dtypes함수\n",
      "name    object\n",
      "age      int64\n",
      "city    object\n",
      "dtype: object\n",
      "shape함수\n",
      "(5, 3)\n",
      "isnull함수\n",
      "name    0\n",
      "age     0\n",
      "city    0\n",
      "dtype: int64\n"
     ]
    }
   ],
   "source": [
    "import pandas as pd\n",
    "\n",
    "# 데이터프레임 생성\n",
    "data = {'name': ['Alice', 'Bob', 'Charlie', 'David', 'Eva'],\n",
    "        'age': [25, 30, 35, 40, 45],\n",
    "        'city': ['New York', 'Paris', 'London', 'Berlin', 'Tokyo']}\n",
    "df = pd.DataFrame(data)\n",
    "\n",
    "# 데이터프레임 정보 출력\n",
    "print(\"head함수\")\n",
    "print(df.head())            # 상위 5개 데이터 출력\n",
    "print(\"tail함수\")\n",
    "print(df.tail())            # 하위 5개 데이터 출력\n",
    "print(\"info함수\")\n",
    "print(df.info())            # 데이터프레임 정보 출력\n",
    "print(\"describe함수\")\n",
    "print(df.describe())        # 수치형 열의 기술 통계 정보 출력\n",
    "print(\"columns함수\")\n",
    "print(df.columns)           # 열 이름 출력\n",
    "print(\"index함수\")\n",
    "print(df.index)             # 행 인덱스 출력\n",
    "print(\"dtypes함수\")\n",
    "print(df.dtypes)            # 열의 데이터 타입 출력\n",
    "print(\"shape함수\")\n",
    "print(df.shape)             # 데이터프레임의 크기 출력\n",
    "print(\"isnull함수\")\n",
    "print(df.isnull().sum())    # 결측치 개수 출력\n"
   ]
  },
  {
   "cell_type": "code",
   "execution_count": 27,
   "metadata": {},
   "outputs": [
    {
     "data": {
      "image/png": "[encoded data removed]",
      "text/plain": [
       "<Figure size 640x480 with 1 Axes>"
      ]
     },
     "metadata": {},
     "output_type": "display_data"
    }
   ],
   "source": [
    "#열 선택 그래프 예제\n",
    "import pandas as pd\n",
    "import matplotlib.pyplot as plt\n",
    "\n",
    "# 데이터프레임 생성\n",
    "data = {\n",
    "    'year': [2017, 2018, 2019, 2020, 2021],\n",
    "    'A_product_sales': [6, 7, 8, 9, 10],\n",
    "    'B_product_sales': [11, 12, 13, 14, 15]\n",
    "}\n",
    "\n",
    "df = pd.DataFrame(data)\n",
    "\n",
    "# 특정 열 선택하여 연산 수행 후 결과를 새로운 열로 추가\n",
    "df['total'] = df['A_product_sales'] + df['B_product_sales']\n",
    "\n",
    "# 새로 추가한 열을 이용해서 그래프 그리기\n",
    "plt.bar(df['year'], df['total'])  \n",
    "\n",
    "plt.xlabel('Year')\n",
    "plt.ylabel('Total Sales')\n",
    "plt.title('Total Sales per Year')\n",
    "\n",
    "plt.show()\n"
   ]
  },
  {
   "cell_type": "code",
   "execution_count": 29,
   "metadata": {},
   "outputs": [
    {
     "name": "stdout",
     "output_type": "stream",
     "text": [
      "      name  age\n",
      "2  Charlie   35\n"
     ]
    }
   ],
   "source": [
    "#df.loc 주로 많이 사용\n",
    "import pandas as pd\n",
    "\n",
    "data = {\n",
    "    'name': ['Alice', 'Bob', 'Charlie', 'David', 'Eva'],\n",
    "    'age': [25, 30, 35, 40, 45],\n",
    "    'city': ['New York', 'Paris', 'London', 'Berlin', 'Tokyo']\n",
    "}\n",
    "\n",
    "df = pd.DataFrame(data)\n",
    "\n",
    "# 조건과 열을 동시에 사용하여 행 및 열 선택\n",
    "selected_rows_columns = df.loc[(df['age'] > 30) & (df['city'] == 'London'), ['name', 'age']]\n",
    "print(selected_rows_columns)\n"
   ]
  },
  {
   "cell_type": "code",
   "execution_count": 31,
   "metadata": {},
   "outputs": [
    {
     "name": "stdout",
     "output_type": "stream",
     "text": [
      "    A   B   C\n",
      "0  10  10  10\n",
      "1  10  10  10\n",
      "2  10  10  10\n",
      "A    2.0\n",
      "B    5.0\n",
      "C    8.0\n",
      "dtype: float64\n",
      "0    4.0\n",
      "1    5.0\n",
      "2    6.0\n",
      "dtype: float64\n"
     ]
    }
   ],
   "source": [
    "import pandas as pd\n",
    "\n",
    "data1 = {'A': [1, 2, 3], 'B': [4, 5, 6], 'C': [7, 8, 9]}\n",
    "data2 = {'A': [9, 8, 7], 'B': [6, 5, 4], 'C': [3, 2, 1]}\n",
    "df1 = pd.DataFrame(data1)\n",
    "df2 = pd.DataFrame(data2)\n",
    "\n",
    "\n",
    "\n",
    "# 기본 연산\n",
    "print(df1 + df2)\n",
    "\n",
    "\n",
    "\n",
    "# 집계 함수\n",
    "print(df1.mean())  #열 기준 \n",
    "\n",
    "\n",
    "print(df1.mean(axis=1))  #행 기준\n"
   ]
  }
 ],
 "metadata": {
  "kernelspec": {
   "display_name": "base",
   "language": "python",
   "name": "python3"
  },
  "language_info": {
   "codemirror_mode": {
    "name": "ipython",
    "version": 3
   },
   "file_extension": ".py",
   "mimetype": "text/x-python",
   "name": "python",
   "nbconvert_exporter": "python",
   "pygments_lexer": "ipython3",
   "version": "3.10.9"
  },
  "orig_nbformat": 4
 },
 "nbformat": 4,
 "nbformat_minor": 2
}
