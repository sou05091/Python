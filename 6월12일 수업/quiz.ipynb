{
 "cells": [
  {
   "cell_type": "code",
   "execution_count": 13,
   "metadata": {},
   "outputs": [
    {
     "name": "stdout",
     "output_type": "stream",
     "text": [
      "     total_bill   tip  size\n",
      "0         16.99  1.01     2\n",
      "1         10.34  1.66     3\n",
      "2         21.01  3.50     3\n",
      "3         23.68  3.31     2\n",
      "4         24.59  3.61     4\n",
      "..          ...   ...   ...\n",
      "239       29.03  5.92     3\n",
      "240       27.18  2.00     2\n",
      "241       22.67  2.00     2\n",
      "242       17.82  1.75     2\n",
      "243       18.78  3.00     2\n",
      "\n",
      "[244 rows x 3 columns]\n"
     ]
    }
   ],
   "source": [
    "import pandas as pd\n",
    "df = pd.read_csv('tips.csv')\n",
    "#print(df.head())\n",
    "#print(df.info())\n",
    "number1 = df.loc[(df['total_bill']>20)]\n",
    "#print(number1)\n",
    "number2 = df.loc[(df['sex']=='Female')]\n",
    "#print(number2)\n",
    "number3 = df.loc[(df['day']=='Sun') & (df['time']=='Dinner')]\n",
    "#print(number3)\n",
    "number4 = df.loc[(df['tip']>5) & (df['size']==3) | (df['size']==4)]\n",
    "#print(number4)\n",
    "number5 = df.loc[:,['total_bill','tip','size']]\n",
    "print(number5)"
   ]
  },
  {
   "attachments": {},
   "cell_type": "markdown",
   "metadata": {},
   "source": [
    "total_bill이 20보다 큰 행들만 선택해보세요.\n",
    "sex가 'Female'인 행들만 선택해보세요.\n",
    "day가 'Sun'이고 time이 'Dinner'인 행들만 선택해보세요.\n",
    "tip이 5보다 크고 size가 3 또는 4인 행들만 선택해보세요.\n",
    "total_bill, tip, size 열만 선택해보세요.\n"
   ]
  }
 ],
 "metadata": {
  "kernelspec": {
   "display_name": "base",
   "language": "python",
   "name": "python3"
  },
  "language_info": {
   "codemirror_mode": {
    "name": "ipython",
    "version": 3
   },
   "file_extension": ".py",
   "mimetype": "text/x-python",
   "name": "python",
   "nbconvert_exporter": "python",
   "pygments_lexer": "ipython3",
   "version": "3.10.9"
  },
  "orig_nbformat": 4
 },
 "nbformat": 4,
 "nbformat_minor": 2
}
