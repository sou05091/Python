{
 "cells": [
  {
   "cell_type": "code",
   "execution_count": 4,
   "metadata": {},
   "outputs": [
    {
     "name": "stdout",
     "output_type": "stream",
     "text": [
      "True\n",
      "False\n",
      "True\n",
      "True\n",
      "True\n",
      "True\n",
      "True\n",
      "True\n",
      "True\n",
      "True\n",
      "True\n",
      "True\n"
     ]
    }
   ],
   "source": [
    "print(\"hello123\".isalnum())\n",
    "print(\"123\".isalpha())  # False\n",
    "print(\"123\".isdecimal())  # True\n",
    "print(\"123\".isdigit())  # True\n",
    "print(\"hello\".isidentifier())  # True\n",
    "print(\"hello\".islower())  # True\n",
    "print(\"123\".isnumeric())  # True\n",
    "print(\"Hello, World!\".isprintable())  # True\n",
    "print(\"   \".isspace())  # True\n",
    "print(\"\\t\".isspace())  # True\n",
    "print(\"Hello, World!\".istitle())  # True\n",
    "print(\"HELLO\".isupper())  # True"
   ]
  },
  {
   "cell_type": "code",
   "execution_count": 7,
   "metadata": {},
   "outputs": [
    {
     "name": "stdout",
     "output_type": "stream",
     "text": [
      "HELLO, WORLD!\n",
      "hello, world!\n",
      "Hello, world!\n",
      "Hello, World!\n",
      "hELLO, wORLD!\n"
     ]
    }
   ],
   "source": [
    "#문자열 대소문자 변환 함수\n",
    "\n",
    "# upper(): 문자열의 모든 알파벳을 대문자로 변환한 새로운 문자열을 반환합니다.\n",
    "# lower(): 문자열의 모든 알파벳을 소문자로 변환한 새로운 문자열을 반환합니다.\n",
    "# capitalize(): 문자열의 첫 문자를 대문자로, 나머지 문자를 소문자로 변환한 새로운 문자열을 반환합니다.\n",
    "# title(): 문자열에서 단어의 첫 문자를 대문자로, 나머지 문자를 소문자로 변환한 새로운 문자열을 반환합니다.\n",
    "# swapcase(): 문자열에서 대문자는 소문자로, 소문자는 대문자로 변환한 새로운 문자열을 반환합니다.\n",
    "\n",
    "print(\"hello, world!\".upper())  # \"HELLO, WORLD!\"\n",
    "print(\"HeLLo, wOrLd!\".lower())  # \"hello, world!\"\n",
    "print(\"hello, world!\".capitalize())  # \"Hello, world!\"\n",
    "print(\"hello, world!\".title())  # \"Hello, World!\"\n",
    "print(\"Hello, World!\".swapcase())  # \"hELLO, wORLD!\""
   ]
  },
  {
   "cell_type": "code",
   "execution_count": 1,
   "metadata": {},
   "outputs": [
    {
     "name": "stdout",
     "output_type": "stream",
     "text": [
      "0\n",
      "\n"
     ]
    },
    {
     "ename": "IndexError",
     "evalue": "string index out of range",
     "output_type": "error",
     "traceback": [
      "\u001b[1;31m---------------------------------------------------------------------------\u001b[0m",
      "\u001b[1;31mIndexError\u001b[0m                                Traceback (most recent call last)",
      "Cell \u001b[1;32mIn[1], line 4\u001b[0m\n\u001b[0;32m      2\u001b[0m \u001b[39mprint\u001b[39m(\u001b[39mlen\u001b[39m(n))\n\u001b[0;32m      3\u001b[0m \u001b[39mprint\u001b[39m(n\u001b[39m*\u001b[39m\u001b[39m10\u001b[39m)\n\u001b[1;32m----> 4\u001b[0m rs3 \u001b[39m=\u001b[39m n[\u001b[39m3\u001b[39;49m]\n\u001b[0;32m      5\u001b[0m rs \u001b[39m=\u001b[39m n[\u001b[39m-\u001b[39m\u001b[39m3\u001b[39m]\n\u001b[0;32m      6\u001b[0m \u001b[39mprint\u001b[39m(rs3)\n",
      "\u001b[1;31mIndexError\u001b[0m: string index out of range"
     ]
    }
   ],
   "source": [
    "n = input()\n",
    "print(len(n))\n",
    "print(n*10)\n",
    "rs3 = n[3]\n",
    "rs = n[-3]\n",
    "print(rs3)\n",
    "print(rs)\n",
    "print(reversed(n))\n",
    "if len[n] == 3:\n",
    "    print(len[7])\n",
    "else:\n",
    "    print(\"없음\")\n",
    "print(n.lstrip())\n",
    "print(n.rstrip())"
   ]
  }
 ],
 "metadata": {
  "kernelspec": {
   "display_name": "base",
   "language": "python",
   "name": "python3"
  },
  "language_info": {
   "codemirror_mode": {
    "name": "ipython",
    "version": 3
   },
   "file_extension": ".py",
   "mimetype": "text/x-python",
   "name": "python",
   "nbconvert_exporter": "python",
   "pygments_lexer": "ipython3",
   "version": "3.10.9"
  },
  "orig_nbformat": 4
 },
 "nbformat": 4,
 "nbformat_minor": 2
}
