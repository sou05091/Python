{
 "cells": [
  {
   "cell_type": "code",
   "execution_count": null,
   "metadata": {},
   "outputs": [],
   "source": [
    "# 사용자로부터 양의 정수 n을 입력받아, 1부터 n까지의 자연수 중에서 3의 배수와 5의 배수의 합을 구하고,\n",
    "# 이를 출력하는 프로그램을 작성하세요.\n",
    "# 사용자로부터 입력받는 정수 n은 1 이상의 양의 정수입니다.\n",
    "# 자연수 1부터 n까지의 숫자 중에서 3의 배수 또는 5의 배수인 숫자들의 합을 구합니다.\n",
    "# 결과값은 정수형으로 출력합니다.\n",
    "\n",
    "n = int(input())\n",
    "for x in range(n):\n",
    "    if x % 3 == 0 or x % 5 ==0:\n",
    "        sum+=x"
   ]
  },
  {
   "cell_type": "code",
   "execution_count": null,
   "metadata": {},
   "outputs": [],
   "source": [
    "# stack = []\n",
    "# min = []\n",
    "# for x in range(5):\n",
    "#     n = int(input())\n",
    "#     if n > n-1:\n",
    "#         stack.append(n)\n",
    "#     elif n < n-1:\n",
    "#         min.append(n)\n",
    "# print(min, stack)\n",
    "min_num = 100\n",
    "max_num = 0\n",
    "for i in range(5):\n",
    "    num = int(input())\n",
    "    if num > max_num:\n",
    "        max_num = num\n",
    "    if num < min_num:\n",
    "        min_num = num\n",
    "print(min_num, max_num) "
   ]
  },
  {
   "cell_type": "code",
   "execution_count": null,
   "metadata": {},
   "outputs": [],
   "source": [
    "while x <= 100:\n",
    "    n = int(input())\n",
    "    x += n\n",
    "print(x)\n"
   ]
  },
  {
   "cell_type": "code",
   "execution_count": null,
   "metadata": {},
   "outputs": [],
   "source": [
    "#재귀 파보나치\n",
    "def cal(n):\n",
    "    if n <= 0:\n",
    "        return 0\n",
    "    elif n == 1:\n",
    "        return 1\n",
    "    else:\n",
    "        return cal(n-1) + cal(n-2) \n",
    "n = int(input())\n",
    "result = cal(n)\n",
    "print(result)"
   ]
  },
  {
   "cell_type": "code",
   "execution_count": null,
   "metadata": {},
   "outputs": [],
   "source": [
    "#두 주사위를 던졌을 때, 합이 7이 되면 이김, 그렇지 않으면 지는 간단한 주사위 게임을 만들어보세요.\n",
    "#(힌트: random 모듈의 randint() 함수를 사용하세요.)\n",
    "import random\n",
    "randnum = random.randint(1, 6)\n",
    "randnum1 = random.randint(1, 6)\n",
    "result = randnum + randnum1\n",
    "if result == 7:\n",
    "    print(\"승리\")\n",
    "else:\n",
    "    print(\"패배\")"
   ]
  },
  {
   "cell_type": "code",
   "execution_count": null,
   "metadata": {},
   "outputs": [],
   "source": [
    "while True:\n",
    "    n1 = int(input(\"첫번째 숫자입력 '0' 입력시 종료\"))\n",
    "    if n1 ==0:\n",
    "        break\n",
    "    n2 = int(input(\"두번째 숫자입력\"))\n",
    "    mix = input(\"연산자 입력\")\n",
    "    if mix == \"*\":\n",
    "        result = n1 * n2\n",
    "    elif mix == \"/\":\n",
    "        result = n1 / n2\n",
    "    elif mix == \"+\":\n",
    "        result = n1 + n2\n",
    "    elif mix == \"-\":\n",
    "        result = n1-n2\n",
    "    else:\n",
    "        print(\"잘못된 연산\")\n",
    "    print(result)"
   ]
  },
  {
   "cell_type": "code",
   "execution_count": null,
   "metadata": {},
   "outputs": [],
   "source": [
    "import random\n",
    "for x in range(5):\n",
    "    randnum = random.randint(1,100)\n",
    "    n = int(input(\"에측 숫자\"))\n",
    "    if randnum == n:\n",
    "        print(\"정답입니다\")\n",
    "        break\n",
    "    else:\n",
    "        print(\"오답입니다.\")\n",
    "    x+=1\n",
    "print(\"끝\")\n"
   ]
  },
  {
   "cell_type": "code",
   "execution_count": null,
   "metadata": {},
   "outputs": [],
   "source": [
    "import random\n",
    "player = 50\n",
    "while player <= 100 or player >= 0:\n",
    "    coin = random.randint(1,2)\n",
    "    gs = int(input(\"앞면(1)뒷면(2)중 정답을 맞혀보세요\"))\n",
    "    if coin == gs:\n",
    "        player + 9\n",
    "        print(\"9달러 +\")\n",
    "    else:\n",
    "        player -10\n",
    "        print(\"10달러 -\")"
   ]
  },
  {
   "cell_type": "code",
   "execution_count": null,
   "metadata": {},
   "outputs": [],
   "source": [
    "#최대 공약수 구하기\n",
    "n1 = int(input())\n",
    "n2 = int(input())\n",
    "res = []\n",
    "for x in range(100):\n",
    "    x += 1\n",
    "    if n1 % x == 0 and n2 % x == 0:\n",
    "        res.append(x)\n",
    "print(res[-1]) "
   ]
  },
  {
   "cell_type": "code",
   "execution_count": null,
   "metadata": {},
   "outputs": [],
   "source": [
    "#약수 출력 문제\n",
    "n = int(input())\n",
    "res = []\n",
    "for x in range(100):\n",
    "    x += 1\n",
    "    if n % x == 0:\n",
    "        res.append(x)\n",
    "print(res)"
   ]
  },
  {
   "cell_type": "code",
   "execution_count": null,
   "metadata": {},
   "outputs": [],
   "source": [
    "#n까지의 모든 소수 출력하기\n",
    "n = int(input())\n",
    "primes = []\n",
    "\n",
    "for x in range(2, n + 1):\n",
    "    is_prime = True\n",
    "    for y in range(2, int(x**0.5) + 1):\n",
    "        if x % y == 0:\n",
    "            is_prime = False\n",
    "            break\n",
    "    if is_prime:\n",
    "        primes.append(x)\n",
    "\n",
    "print(primes)\n"
   ]
  },
  {
   "cell_type": "code",
   "execution_count": 5,
   "metadata": {},
   "outputs": [
    {
     "name": "stdout",
     "output_type": "stream",
     "text": [
      "D\n",
      "D\n",
      "C\n",
      "A\n",
      "F\n"
     ]
    }
   ],
   "source": [
    "#점수 출력\n",
    "while n >= 0:\n",
    "    n = int(input(\"점수를 입력하세요 (음수 입력시 종료)\"))\n",
    "    if n >= 90:\n",
    "        grade = \"A\"\n",
    "    elif n >= 80:\n",
    "        grade = \"B\"\n",
    "    elif n >= 60:\n",
    "        grade = \"C\"\n",
    "    elif n >= 40:\n",
    "        grade = \"D\"\n",
    "    else:\n",
    "        grade = \"F\"\n",
    "    print(grade) "
   ]
  }
 ],
 "metadata": {
  "kernelspec": {
   "display_name": "base",
   "language": "python",
   "name": "python3"
  },
  "language_info": {
   "codemirror_mode": {
    "name": "ipython",
    "version": 3
   },
   "file_extension": ".py",
   "mimetype": "text/x-python",
   "name": "python",
   "nbconvert_exporter": "python",
   "pygments_lexer": "ipython3",
   "version": "3.10.9"
  },
  "orig_nbformat": 4
 },
 "nbformat": 4,
 "nbformat_minor": 2
}
