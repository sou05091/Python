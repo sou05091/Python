{
 "cells": [
  {
   "cell_type": "code",
   "execution_count": 1,
   "metadata": {},
   "outputs": [
    {
     "name": "stdout",
     "output_type": "stream",
     "text": [
      "15\n"
     ]
    }
   ],
   "source": [
    "#sum function\n",
    "nums = [1, 2, 3, 4, 5]\n",
    "total = sum(nums)\n",
    "print(total)  # 15"
   ]
  },
  {
   "cell_type": "code",
   "execution_count": 2,
   "metadata": {},
   "outputs": [
    {
     "name": "stdout",
     "output_type": "stream",
     "text": [
      "5\n",
      "1\n"
     ]
    }
   ],
   "source": [
    "#max and min function\n",
    "nums = [1, 2, 3, 4, 5]\n",
    "max_num = max(nums)\n",
    "min_num = min(nums)\n",
    "print(max_num)  # 5\n",
    "print(min_num)  # 1\n"
   ]
  },
  {
   "cell_type": "code",
   "execution_count": 3,
   "metadata": {},
   "outputs": [
    {
     "name": "stdout",
     "output_type": "stream",
     "text": [
      "5\n",
      "1\n"
     ]
    }
   ],
   "source": [
    "#sorted function\n",
    "nums = [1, 2, 3, 4, 5]\n",
    "max_num = max(nums)\n",
    "min_num = min(nums)\n",
    "print(max_num)  # 5\n",
    "print(min_num)  # 1"
   ]
  },
  {
   "cell_type": "code",
   "execution_count": 4,
   "metadata": {},
   "outputs": [
    {
     "name": "stdout",
     "output_type": "stream",
     "text": [
      "[5, 4, 3, 2, 1]\n"
     ]
    }
   ],
   "source": [
    "#reversd function\n",
    "nums = [1, 2, 3, 4, 5]\n",
    "reversed_nums = list(reversed(nums))\n",
    "print(reversed_nums)  # [5, 4, 3, 2, 1]"
   ]
  },
  {
   "cell_type": "code",
   "execution_count": 5,
   "metadata": {},
   "outputs": [
    {
     "name": "stdout",
     "output_type": "stream",
     "text": [
      "[1, 2, 3]\n"
     ]
    }
   ],
   "source": [
    "#sort() list\n",
    "a = [3, 2, 1]\n",
    "a.sort()\n",
    "print(a)  # 출력: [1, 2, 3]\n"
   ]
  },
  {
   "cell_type": "code",
   "execution_count": 6,
   "metadata": {},
   "outputs": [
    {
     "name": "stdout",
     "output_type": "stream",
     "text": [
      "[3, 2, 1]\n",
      "[1, 2, 3]\n"
     ]
    }
   ],
   "source": [
    "#sorted() List\n",
    "a = [3, 2, 1]\n",
    "b = sorted(a)\n",
    "print(a)  # 출력: [3, 2, 1]\n",
    "print(b)  # 출력: [1, 2, 3]\n"
   ]
  },
  {
   "cell_type": "code",
   "execution_count": 7,
   "metadata": {},
   "outputs": [
    {
     "name": "stdout",
     "output_type": "stream",
     "text": [
      "[3, 2, 1]\n"
     ]
    }
   ],
   "source": [
    "# reverse and reversed\n",
    "a = [1, 2, 3]\n",
    "a.reverse()\n",
    "print(a)  # 출력: [3, 2, 1]"
   ]
  },
  {
   "cell_type": "code",
   "execution_count": null,
   "metadata": {},
   "outputs": [],
   "source": [
    "# reverse and reversed\n",
    "a = [1, 2, 3]\n",
    "b = reversed(a)\n",
    "print(a)  # 출력: [1, 2, 3]\n",
    "print(list(b))  # 출력: [3, 2, 1]"
   ]
  }
 ],
 "metadata": {
  "kernelspec": {
   "display_name": "base",
   "language": "python",
   "name": "python3"
  },
  "language_info": {
   "codemirror_mode": {
    "name": "ipython",
    "version": 3
   },
   "file_extension": ".py",
   "mimetype": "text/x-python",
   "name": "python",
   "nbconvert_exporter": "python",
   "pygments_lexer": "ipython3",
   "version": "3.10.9"
  },
  "orig_nbformat": 4
 },
 "nbformat": 4,
 "nbformat_minor": 2
}
