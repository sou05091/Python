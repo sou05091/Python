{
 "cells": [
  {
   "cell_type": "code",
   "execution_count": null,
   "metadata": {},
   "outputs": [],
   "source": [
    "word = input()\n",
    "index_a = word.find('a')\n",
    "if index_a != -1:\n",
    "    print(word[:index_a + 1])\n",
    "    print(word[:index_a + 1:])\n",
    "else:\n",
    "    print(word)"
   ]
  },
  {
   "cell_type": "code",
   "execution_count": null,
   "metadata": {},
   "outputs": [],
   "source": [
    "friend = [\"kim\",\"min\",\"beom\"]\n",
    "friend.insert(1,\"jik\")\n",
    "friend.insert(3,\"min\")\n",
    "friend.append(\"se\")\n",
    "print(friend)"
   ]
  },
  {
   "cell_type": "code",
   "execution_count": null,
   "metadata": {},
   "outputs": [],
   "source": [
    "n = [1,2,3]\n",
    "n.insert(1,17)\n",
    "n.append(4)\n",
    "n.append(5)\n",
    "n.append(6)\n",
    "n.remove(1)\n",
    "n.sort()\n",
    "n.insert(3,25)\n",
    "print(n)"
   ]
  },
  {
   "cell_type": "code",
   "execution_count": null,
   "metadata": {},
   "outputs": [],
   "source": [
    "res = []\n",
    "res2 = []\n",
    "for i in range(0,45):\n",
    "    res.append(i)\n",
    "    y = i**2\n",
    "    res2.append(y)\n",
    "print(res)\n",
    "print(res2)\n"
   ]
  },
  {
   "cell_type": "code",
   "execution_count": null,
   "metadata": {},
   "outputs": [],
   "source": [
    "L,M,N = [1,2,3],[4,5,6],[]\n",
    "for i in range(len(L)):\n",
    "    N.append(L[i]+M[i])\n",
    "print(N)"
   ]
  },
  {
   "cell_type": "code",
   "execution_count": null,
   "metadata": {},
   "outputs": [],
   "source": [
    "n = input()\n",
    "res = []\n",
    "res.append(n)\n",
    "result = ','.join(res).replace(\",\", \"+\")\n",
    "print(result)\n",
    "\n",
    "#sentence = \"I like cats, but I also like dogs.\"\n",
    "#new_sentence = sentence.replace(\"cats\", \"rabbits\")\n",
    "#print(new_sentence)"
   ]
  },
  {
   "cell_type": "code",
   "execution_count": null,
   "metadata": {},
   "outputs": [],
   "source": [
    "days = {'January':31, 'February':28, 'March':31, 'April':30,'May':31,\n",
    "        'June':30, 'July':31, 'August':31,'September':30, 'October':31,\n",
    "        'November':30, 'December':31}\n",
    "#해당 달에 날짜 출력\n",
    "n = input()\n",
    "print(days.get(n))\n",
    "#알파벳 순서로 출력\n",
    "res = sorted(days)\n",
    "print(res)\n",
    "#일수가 31일인 월을 모두 출력\n",
    "for mon in days:\n",
    "    if days[mon] == 31:\n",
    "        print(mon, end=\" \")\n",
    "    print()\n",
    "    \n"
   ]
  },
  {
   "cell_type": "code",
   "execution_count": null,
   "metadata": {},
   "outputs": [],
   "source": [
    "days = {'January':31, 'February':28, 'March':31, 'April':30,'May':31,\n",
    "        'June':30, 'July':31, 'August':31,'September':30, 'October':31,\n",
    "        'November':30, 'December':31}\n",
    "#쌍을 일수를 기준으로 오름차순 정렬해서 출력\n",
    "res = days.items()\n",
    "print(res)\n",
    "#\n",
    "n = input()\n",
    "new_days = {'Jan':31, 'Feb':28, 'Mar':31, 'Apr':30,'May':31,\n",
    "        'Jun':30, 'Jul':31, 'Aug':31,'Sep':30, 'Oct':31,\n",
    "        'Nov':30, 'Dec':31}\n",
    "days.update(new_days)\n",
    "print(days.get(n))\n",
    "#다른 방법\n",
    "month = input()\n",
    "for mon in days:\n",
    "        if mon[0:3] == month.title():\n",
    "                print(days[mon])"
   ]
  },
  {
   "cell_type": "code",
   "execution_count": null,
   "metadata": {},
   "outputs": [],
   "source": [
    "data=[{'name':'Todd', 'phone':'555-1414', 'email':'todd@mail.net'},\n",
    "   {'name':'Helga', 'phone':'555-1618', 'email':'helga@mail.net'},\n",
    "   {'name':'Princess', 'phone':'555-3141', 'email':''},\n",
    "   {'name':'LJ', 'phone':'555-2718', 'email':'lj@mail.net'}]\n",
    "#1. 전화번호가 8로 끝나는 사용자 이름을 출력하라\n",
    "#2. 이메일이 없는 사용자 이름을 출력하라\n",
    "#3. 사용자 이름을 입력하면 전화번호, 이메일을 출력하라. 이름이 없으면 \n",
    "#   '이름이 없습니다'라는 메시지를 출력하라\n",
    "for people in data:\n",
    "   if people[\"phone\"][7] == \"8\":\n",
    "      print(people[\"name\"])\n",
    "print(\"=\"*30)\n",
    "for people in data:\n",
    "   if people['email']=='':\n",
    "      print(people['name'])\n",
    "print(\"=\"*30)\n",
    "n = input()\n",
    "flag = 0\n",
    "for peopl in data:\n",
    "   if n == people['name']:\n",
    "      flag = 0\n",
    "   else:\n",
    "      flag = 1\n",
    "if flag == 0:\n",
    "   print(people['email'], people['phone'])\n",
    "else:\n",
    "   print(\"이름이 없습니다.\")\n",
    "   "
   ]
  },
  {
   "cell_type": "code",
   "execution_count": 58,
   "metadata": {},
   "outputs": [
    {
     "name": "stdout",
     "output_type": "stream",
     "text": [
      "[8, 9, 11, 16, 35, 41]\n"
     ]
    }
   ],
   "source": [
    "#1부터 45까지의 수 중에서 6개를 선택하여 로또 번호를 만드는 프로그램\n",
    "import random\n",
    "pick = set()\n",
    "while len(pick)<6:\n",
    "    n = random.randint(1,45)\n",
    "    pick.add(n)\n",
    "result = sorted(pick)\n",
    "print(result)"
   ]
  },
  {
   "cell_type": "code",
   "execution_count": 62,
   "metadata": {},
   "outputs": [
    {
     "name": "stdout",
     "output_type": "stream",
     "text": [
      "Alice : 90.0\n",
      "Bob : 80.0\n",
      "Charlie : 95.0\n"
     ]
    }
   ],
   "source": [
    "students = {\n",
    "    \"Alice\": [85, 90, 95],\n",
    "    \"Bob\": [75, 80, 85],\n",
    "    \"Charlie\": [95, 95, 95]\n",
    "}\n",
    "avg1 = sum(students.get('Alice'))/3\n",
    "avg2 = sum(students.get('Bob'))/3\n",
    "avg3 = sum(students.get('Charlie'))/3\n",
    "print(f\"Alice : {avg1}\")\n",
    "print(f\"Bob : {avg2}\")\n",
    "print(f\"Charlie : {avg3}\")"
   ]
  },
  {
   "cell_type": "code",
   "execution_count": 67,
   "metadata": {},
   "outputs": [
    {
     "name": "stdout",
     "output_type": "stream",
     "text": [
      "15\n"
     ]
    }
   ],
   "source": [
    "n = [1, 2, 2, 3, 3, 3, 4, 4, 5]\n",
    "result = sum(list(set(n)))\n",
    "print(result)\n"
   ]
  },
  {
   "cell_type": "code",
   "execution_count": 79,
   "metadata": {},
   "outputs": [
    {
     "name": "stdout",
     "output_type": "stream",
     "text": [
      "{'H': 1, 'e': 1, 'l': 3, 'o': 2, ',': 1, ' ': 1, 'w': 1, 'r': 1, 'd': 1}\n"
     ]
    }
   ],
   "source": [
    "text = \"Hello, world\"\n",
    "freq_dict = {}\n",
    "for char in text:\n",
    "    if char not in freq_dict:\n",
    "        freq_dict[char] = 1\n",
    "    else:\n",
    "        freq_dict[char] += 1\n",
    "print(freq_dict)"
   ]
  },
  {
   "cell_type": "code",
   "execution_count": 81,
   "metadata": {},
   "outputs": [
    {
     "name": "stdout",
     "output_type": "stream",
     "text": [
      "{2, 4}\n"
     ]
    }
   ],
   "source": [
    "list1 = {1, 2, 3, 4, 5}\n",
    "list2 = {2, 4, 6, 8, 10}\n",
    "print(list1.intersection(list2))\n"
   ]
  },
  {
   "cell_type": "code",
   "execution_count": 83,
   "metadata": {},
   "outputs": [
    {
     "name": "stdout",
     "output_type": "stream",
     "text": [
      "[2, 4]\n"
     ]
    }
   ],
   "source": [
    "list1 = set([1, 2, 3, 4, 5])\n",
    "list2 = set([2, 4, 6, 8, 10])\n",
    "print(list(list1&list2))"
   ]
  },
  {
   "cell_type": "code",
   "execution_count": 85,
   "metadata": {},
   "outputs": [
    {
     "name": "stdout",
     "output_type": "stream",
     "text": [
      "{1, 2, 3, 4, 5}\n",
      "{1, 2, 3, 4, 5}\n",
      "{3}\n",
      "{3}\n",
      "{1, 2}\n",
      "{1, 2}\n",
      "{1, 2, 4, 5}\n",
      "{1, 2, 4, 5}\n"
     ]
    }
   ],
   "source": [
    "set1 = {1, 2, 3}\n",
    "set2 = {3, 4, 5}\n",
    "\n",
    "# 합집합\n",
    "print(set1.union(set2))  # {1, 2, 3, 4, 5}\n",
    "print(set1 | set2)       # {1, 2, 3, 4, 5}\n",
    "\n",
    "# 교집합\n",
    "print(set1.intersection(set2))  # {3}\n",
    "print(set1 & set2)              # {3}\n",
    "\n",
    "# 차집합\n",
    "print(set1.difference(set2))  # {1, 2}\n",
    "print(set1 - set2)            # {1, 2}\n",
    "\n",
    "# 대칭차집합\n",
    "print(set1.symmetric_difference(set2))  # {1, 2, 4, 5}\n",
    "print(set1 ^ set2)                      # {1, 2, 4, 5}\n"
   ]
  },
  {
   "cell_type": "code",
   "execution_count": 86,
   "metadata": {},
   "outputs": [
    {
     "name": "stdout",
     "output_type": "stream",
     "text": [
      "15\n"
     ]
    }
   ],
   "source": [
    "def den(n):\n",
    "    res = []\n",
    "    x = 1\n",
    "    while x <= n:\n",
    "        res.append(x)\n",
    "        x += 1\n",
    "    result = sum(res)\n",
    "    return result\n",
    "n = int(input(n))\n",
    "res1 = den(n)\n",
    "print(res1)"
   ]
  }
 ],
 "metadata": {
  "kernelspec": {
   "display_name": "base",
   "language": "python",
   "name": "python3"
  },
  "language_info": {
   "codemirror_mode": {
    "name": "ipython",
    "version": 3
   },
   "file_extension": ".py",
   "mimetype": "text/x-python",
   "name": "python",
   "nbconvert_exporter": "python",
   "pygments_lexer": "ipython3",
   "version": "3.10.9"
  },
  "orig_nbformat": 4
 },
 "nbformat": 4,
 "nbformat_minor": 2
}
