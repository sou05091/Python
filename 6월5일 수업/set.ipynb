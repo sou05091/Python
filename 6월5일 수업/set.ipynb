{
 "cells": [
  {
   "cell_type": "code",
   "execution_count": null,
   "metadata": {},
   "outputs": [],
   "source": [
    "#메소드\n",
    "#add(): set에 요소를 추가합니다.\n",
    "#clear(): set의 모든 요소를 제거합니다.\n",
    "#copy(): set의 복사본을 반환합니다.\n",
    "#difference(): set과 다른 set(또는 iterable)의 차집합을 반환합니다.\n",
    "#difference_update(): set과 다른 set(또는 iterable)의 차집합을 set에 업데이트합니다.\n",
    "#discard(): set에서 지정된 요소를 제거합니다.\n",
    "#intersection(): set과 다른 set(또는 iterable)의 교집합을 반환합니다.\n",
    "#intersection_update(): set과 다른 set(또는 iterable)의 교집합을 set에 업데이트합니다.\n",
    "#isdisjoint(): set과 다른 set이 공통된 요소를 가지지 않는지 확인합니다.\n",
    "#issubset(): set이 다른 set의 부분집합인지 확인합니다.\n",
    "#issuperset(): set이 다른 set의 상위집합인지 확인합니다.\n",
    "#pop(): set에서 임의의 요소를 제거하고 반환합니다.\n",
    "#remove(): set에서 지정된 요소를 제거합니다.\n",
    "#symmetric_difference(): set과 다른 set(또는 iterable)의 대칭 차집합을 반환합니다.\n",
    "#symmetric_difference_update(): set과 다른 set(또는 iterable)의 대칭 차집합을 set에 업데이트합니다.\n",
    "#union(): set과 다른 set(또는 iterable)의 합집합을 반환합니다.\n",
    "#update(): set과 다른 set(또는 iterable)의 합집합을 set에 업데이트합니다.\n"
   ]
  }
 ],
 "metadata": {
  "language_info": {
   "name": "python"
  },
  "orig_nbformat": 4
 },
 "nbformat": 4,
 "nbformat_minor": 2
}
