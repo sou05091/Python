{
 "cells": [
  {
   "cell_type": "code",
   "execution_count": 2,
   "metadata": {},
   "outputs": [
    {
     "name": "stdout",
     "output_type": "stream",
     "text": [
      "['apple', 'banana', 'orange']\n",
      "[3, 2, 1]\n",
      "[('apple', 3), ('banana', 2), ('orange', 1)]\n"
     ]
    }
   ],
   "source": [
    "# 딕셔너리 생성\n",
    "fruits = {'apple': 3, 'banana': 2, 'orange': 1}\n",
    "\n",
    "# keys 함수를 사용하여 딕셔너리의 키를 리스트로 변환\n",
    "keys_list = list(fruits.keys())\n",
    "print(keys_list)  # ['apple', 'banana', 'orange']\n",
    "\n",
    "# values 함수를 사용하여 딕셔너리의 값을 리스트로 변환\n",
    "values_list = list(fruits.values())\n",
    "print(values_list)  # [3, 2, 1]\n",
    "\n",
    "# items 함수를 사용하여 딕셔너리의 (키, 값) 쌍을 리스트로 변환\n",
    "items_list = list(fruits.items())\n",
    "print(items_list)  # [('apple', 3), ('banana', 2), ('orange', 1)]\n",
    "\n",
    "\n"
   ]
  },
  {
   "cell_type": "code",
   "execution_count": null,
   "metadata": {},
   "outputs": [],
   "source": [
    "# 딕셔너리 생성\n",
    "fruits = {'apple': 3, 'banana': 2, 'orange': 1}\n",
    "\n",
    "# get 함수를 사용하여 딕셔너리에서 특정 키에 해당하는 값을 가져옴\n",
    "print(fruits.get('apple'))  # 3\n",
    "print(fruits.get('grape'))  # None\n",
    "\n",
    "# setdefault 함수를 사용하여 딕셔너리에 새로운 (키, 값) 쌍 추가\n",
    "fruits.setdefault('grape', 5)\n",
    "print(fruits)  # {'apple': 3, 'banana': 2, 'orange': 1, 'grape': 5}\n",
    "\n",
    "# pop 함수를 사용하여 딕셔너리에서 특정 키의 (키, 값) 쌍 제거하고 값을 반환\n",
    "grape_count = fruits.pop('grape')\n",
    "print(grape_count)  # 5\n",
    "print(fruits)  # {'apple': 3, 'banana': 2, 'orange': 1}\n",
    "\n",
    "# update 함수를 사용하여 딕셔너리에 다른 딕셔너리의 (키, 값) 쌍 추가 또는 업데이트\n",
    "new_fruits = {'pear': 2, 'apple': 5}\n",
    "fruits.update(new_fruits)\n",
    "print(fruits)  # {'apple': 5, 'banana': 2, 'orange': 1, 'pear': 2}\n"
   ]
  }
 ],
 "metadata": {
  "kernelspec": {
   "display_name": "base",
   "language": "python",
   "name": "python3"
  },
  "language_info": {
   "codemirror_mode": {
    "name": "ipython",
    "version": 3
   },
   "file_extension": ".py",
   "mimetype": "text/x-python",
   "name": "python",
   "nbconvert_exporter": "python",
   "pygments_lexer": "ipython3",
   "version": "3.10.9"
  },
  "orig_nbformat": 4
 },
 "nbformat": 4,
 "nbformat_minor": 2
}
