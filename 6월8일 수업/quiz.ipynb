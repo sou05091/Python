{
 "cells": [
  {
   "cell_type": "code",
   "execution_count": null,
   "metadata": {},
   "outputs": [],
   "source": [
    "def mul(x, y):\n",
    "    result = x*y\n",
    "    return result\n",
    "x= int(input())\n",
    "y= int(input())\n",
    "res = mul(x,y)\n",
    "print(res)\n",
    "    "
   ]
  },
  {
   "cell_type": "code",
   "execution_count": 16,
   "metadata": {},
   "outputs": [
    {
     "name": "stdout",
     "output_type": "stream",
     "text": [
      "5\n"
     ]
    }
   ],
   "source": [
    "def plu(x):\n",
    "    x = str(x)\n",
    "    res = list(x)\n",
    "    total = sum(int(digit) for digit in res)\n",
    "    return total\n",
    "x= int(input())\n",
    "result = plu(x)\n",
    "print(result)\n",
    "    "
   ]
  },
  {
   "cell_type": "code",
   "execution_count": 18,
   "metadata": {},
   "outputs": [],
   "source": [
    "def str_comp(str1, str2):\n",
    "    length = min(len(str1))"
   ]
  },
  {
   "cell_type": "code",
   "execution_count": 19,
   "metadata": {},
   "outputs": [
    {
     "data": {
      "text/plain": [
       "[2, 4, 7]"
      ]
     },
     "execution_count": 19,
     "metadata": {},
     "output_type": "execute_result"
    }
   ],
   "source": [
    "def find_char(s,c):\n",
    "    res = []\n",
    "    for i in range(len(s)):\n",
    "        if s[i]==c:\n",
    "            res.append(i)\n",
    "    return res\n",
    "find_char('aabcbcdb', 'b')"
   ]
  },
  {
   "cell_type": "code",
   "execution_count": 21,
   "metadata": {},
   "outputs": [
    {
     "data": {
      "text/plain": [
       "5050"
      ]
     },
     "execution_count": 21,
     "metadata": {},
     "output_type": "execute_result"
    }
   ],
   "source": [
    "def sum_all(n):\n",
    "    if n == 1:\n",
    "        return 1\n",
    "    else:\n",
    "        return n+sum_all(n-1)\n",
    "sum_all(100)    "
   ]
  },
  {
   "cell_type": "code",
   "execution_count": 29,
   "metadata": {},
   "outputs": [],
   "source": [
    "def find_a():\n",
    "    n = input()\n",
    "    for i, ch in enumerate(n):\n",
    "        print(i)\n",
    "        flag = 1\n",
    "    if flag == 0:\n",
    "        print(\"no\")\n",
    "        "
   ]
  },
  {
   "cell_type": "code",
   "execution_count": 27,
   "metadata": {},
   "outputs": [
    {
     "name": "stdout",
     "output_type": "stream",
     "text": [
      "8\n"
     ]
    }
   ],
   "source": [
    "def cal():\n",
    "    def add(a, b):\n",
    "        return a + b\n",
    "\n",
    "    def subtract(a, b):\n",
    "        return a - b\n",
    "\n",
    "    def multiply(a, b):\n",
    "        return a * b\n",
    "\n",
    "    def divide(a, b):\n",
    "        return a / b\n",
    "\n",
    "    return add, subtract, multiply, divide\n",
    "\n",
    "add, subtract, multiply, divide = cal()\n",
    "n = int(input(\"1 = add, 2 = sub, 3 = mul, 4 = div\"))\n",
    "x = int(input(\"input num\"))\n",
    "y = int(input(\"input num\"))\n",
    "if n == 1:  \n",
    "    print(add(x, y))  \n",
    "elif n == 2:\n",
    "    print(subtract(x, y)) \n",
    "elif n == 3:\n",
    "    print(multiply(x, y))  \n",
    "elif n == 4:\n",
    "    print(divide(x, y))  \n",
    "else:\n",
    "    print(\"Wrong number\")"
   ]
  },
  {
   "cell_type": "code",
   "execution_count": 33,
   "metadata": {},
   "outputs": [
    {
     "name": "stdout",
     "output_type": "stream",
     "text": [
      "{'led': 'on', 'motor': 'off', 'switch': 'off'}\n"
     ]
    }
   ],
   "source": [
    "def parse(txt):\n",
    "    items = txt.split('&')\n",
    "    temp = []\n",
    "    for item in items:\n",
    "        temp.append(item.split('='))\n",
    "    return dict(temp)\n",
    "text = 'led=on&motor=off&switch=off'\n",
    "print(parse(text))"
   ]
  },
  {
   "cell_type": "code",
   "execution_count": 34,
   "metadata": {},
   "outputs": [
    {
     "data": {
      "text/plain": [
       "1272279"
      ]
     },
     "execution_count": 34,
     "metadata": {},
     "output_type": "execute_result"
    }
   ],
   "source": [
    "class Deposit:\n",
    "    def __init__(self, initial, interest, n):\n",
    "        self.initial = initial\n",
    "        self.interest = interest\n",
    "        self.n = n\n",
    "    def profit(self):\n",
    "        #result = self.n*(self.initial * (1+self.interest))\n",
    "        #print(result)\n",
    "        return int(self.initial *(1+self.interest)**self.n)\n",
    "deposit = Deposit(1000000, 0.035, 7)\n",
    "deposit.profit()"
   ]
  },
  {
   "cell_type": "code",
   "execution_count": 37,
   "metadata": {},
   "outputs": [
    {
     "name": "stdout",
     "output_type": "stream",
     "text": [
      "Name : min age : 20\n",
      "Name : Kim age : 20\n",
      "My School is  high school\n"
     ]
    }
   ],
   "source": [
    "#예제의 Teacher 클래스에서 People 클래스의\n",
    "# __init__()를 호출하지 않고 부모 클래스의 age, name 인스턴스\n",
    "# 변수를 이용할 수 있는가? 이용할 수 없다면 그 이유는?\n",
    "# 이용할 수 있게 하려면 프로그램을 어떻게 수정해야 하는가?\n",
    "class People :\n",
    "    def __init__(self, age=0, name=None):\n",
    "        self.__age = age\n",
    "        self.__name = name\n",
    "    def introMe(self):\n",
    "        print(\"Name :\", self.__name, \"age :\", str(self.__age))\n",
    "    def get_age(self):\n",
    "        return self.__age\n",
    "    def set_age(self, age):\n",
    "        if age > 0:\n",
    "            self.__age = age\n",
    "        else:\n",
    "            print(\"잘못된 나이입니다.\")\n",
    "    def get_name(self):\n",
    "        return self.__name\n",
    "    def set_name(self, name):\n",
    "        self.__name = name \n",
    "class Teacher(People) :\n",
    "    def __init__(self, age=0, name=None, school=None) :\n",
    "        super().__init__(age, name)\n",
    "        self.school = school\n",
    "    def showSchool(self):\n",
    "        print(\"My School is \", self.school)\n",
    "t = Teacher(20,\"min\",\"high school\")\n",
    "t.introMe()\n",
    "t.set_name(\"Kim\")\n",
    "t.introMe()\n",
    "t.showSchool()\n",
    "\n"
   ]
  },
  {
   "cell_type": "code",
   "execution_count": 47,
   "metadata": {},
   "outputs": [
    {
     "name": "stdout",
     "output_type": "stream",
     "text": [
      "동양\n",
      "65\n",
      "2019\n"
     ]
    }
   ],
   "source": [
    "# 다음 Person 클래스를 상속 받는 Employee 클래스를 정의하라.\n",
    "# Employee 클래스에 employeeID 인스턴스 변수를 추가하고 \n",
    "# getID() 메소드를 정의하라. getID() 메소드는 \n",
    "# employeeID를 반환하는 메소드이다. Employee 클래스를 이용하여\n",
    "# Employee(\"동양\", 65, 2019)로 생성된 객체의 이름, 나이, ID를\n",
    "# 출력하라.\n",
    "\n",
    "class Person:\n",
    "    def __init__(self, name, age): \n",
    "        self.name = name \n",
    "        self.age = age \n",
    "\n",
    "    def getName(self): \n",
    "        print(self.name) \n",
    "\n",
    "    def getAge(self): \n",
    "        print(self.age) \n",
    "class Employee(People):\n",
    "    def __init__(self, name=None, age=0, year=None):\n",
    "        super().__init__(age, name)\n",
    "        self.year = year\n",
    "    def showage(self):\n",
    "        return self.year\n",
    "e = Employee(\"동양\",65,2019)\n",
    "print(e.get_name())\n",
    "print(e.get_age())\n",
    "print(e.showage())"
   ]
  },
  {
   "cell_type": "code",
   "execution_count": 78,
   "metadata": {},
   "outputs": [
    {
     "name": "stdout",
     "output_type": "stream",
     "text": [
      "존재하지 않는 학생입니다.\n",
      "All Studnets\n",
      "이름:Hong, 학번:20230001, 학년:2, 전공:Computer Science, 평점:90.5\n",
      "이름:kim, 학번:20230002, 학년:3, 전공:Computer Science, 평점:50.5\n",
      "이름:Min, 학번:20230003, 학년:4, 전공:Computer Science, 평점:96.5\n"
     ]
    }
   ],
   "source": [
    "#문제: 학생 정보를 관리하는 프로그램을 만드세요.\n",
    "#학생(Student) 클래스\n",
    "#인스턴스 변수: 이름(name), 학번(student_id), 학년(year), 전공(major), 평균 성적(avg_score)\n",
    "#메서드: get_info() - 학생의 정보를 문자열로 반환\n",
    "\n",
    "#학생들을 관리하는 클래스(StudentManager)\n",
    "#인스턴스 변수: 학생들(student_list)\n",
    "#메서드:\n",
    "#add_student(student): 학생을 리스트에 추가하는 메서드\n",
    "#remove_student(student_id): 학번을 이용해 학생을 리스트에서 제거하는 메서드\n",
    "#find_student(student_id): 학번을 이용해 학생을 찾는 메서드\n",
    "#show_all_students(): 모든 학생의 정보를 출력하는 메서드\n",
    "\n",
    "#위 클래스들을 이용하여 다음과 같은 프로그램을 작성하세요.\n",
    "#학생 관리자(StudentManager)를 생성합니다.\n",
    "#학생(Student)을 생성합니다. 학생의 인스턴스 변수는 이름, 학번, 학년, 전공, 평균 성적을 포함합니다.\n",
    "#학생 관리자에 학생을 추가합니다.\n",
    "#학생 관리자에서 학생을 삭제합니다.\n",
    "#학생 관리자에서 학생을 찾습니다.\n",
    "#학생 관리자에서 모든 학생의 정보를 출력합니다.\n",
    "\n",
    "\n",
    "class Student:\n",
    "    def __init__(self, name, student_id, year, major, avg_score):\n",
    "        self.name = name\n",
    "        self.student_id = student_id\n",
    "        self.year = year\n",
    "        self.major = major\n",
    "        self.avg_score = avg_score\n",
    "    def get_info(self):\n",
    "        #print(self.name)\n",
    "        #print(self.student_id)\n",
    "        #print(self.year)\n",
    "        #print(self.major)\n",
    "        #print(self.avg_score)\n",
    "        return f\"이름:{self.name}, 학번:{self.student_id}, 학년:{self.year}, 전공:{self.major}, 평점:{self.avg_score}\"\n",
    "class StudentManager(Student):\n",
    "    def __init__(self):\n",
    "        self.student_list = []\n",
    "    def add_student(self, student):\n",
    "        rs = self.student_list.append(student)\n",
    "        #print(\"add student\")\n",
    "        return rs\n",
    "    def remove_student(self, student_id):\n",
    "        for student in self.student_list:\n",
    "            if student.student_id == student_id:\n",
    "                self.student_list.remove(student)\n",
    "                print(f\"{student_id}삭제되었습니다.\")\n",
    "                return\n",
    "        print(\"존재하지 않는 학생입니다.\")\n",
    "    def find_student(self, student_id):\n",
    "        for student in self.student_list:\n",
    "            if student.student_id == student_id:\n",
    "                print(f\"{student_id}는 {student.name}학생입니다.\")\n",
    "                return\n",
    "        print(\"존재하지 않는 학생입니다.\")\n",
    "    def show_all_students(self):\n",
    "        print(\"All Studnets\")\n",
    "        for student in self.student_list:\n",
    "            print(student.get_info())\n",
    "student_manager = StudentManager()\n",
    "student1 = Student(\"Hong\", \"20230001\", 2, \"Computer Science\", 90.5)\n",
    "student2 = Student(\"kim\", \"20230002\", 3, \"Computer Science\", 50.5)\n",
    "student3 = Student(\"Min\", \"20230003\", 4, \"Computer Science\", 96.5)   \n",
    "student_manager.add_student(student1)\n",
    "student_manager.add_student(student2)\n",
    "student_manager.add_student(student3)\n",
    "# print(student1.get_info())\n",
    "# print(student2.get_info())\n",
    "# print(student3.get_info())\n",
    "\n",
    "#input number\n",
    "# n = input()\n",
    "\n",
    "#delete\n",
    "#student_manager.remove_student(n)\n",
    "\n",
    "#find\n",
    "#student_manager.find_student(n)\n",
    "\n",
    "student_manager.show_all_students()\n"
   ]
  },
  {
   "cell_type": "code",
   "execution_count": null,
   "metadata": {},
   "outputs": [],
   "source": []
  }
 ],
 "metadata": {
  "kernelspec": {
   "display_name": "base",
   "language": "python",
   "name": "python3"
  },
  "language_info": {
   "codemirror_mode": {
    "name": "ipython",
    "version": 3
   },
   "file_extension": ".py",
   "mimetype": "text/x-python",
   "name": "python",
   "nbconvert_exporter": "python",
   "pygments_lexer": "ipython3",
   "version": "3.10.9"
  },
  "orig_nbformat": 4
 },
 "nbformat": 4,
 "nbformat_minor": 2
}
