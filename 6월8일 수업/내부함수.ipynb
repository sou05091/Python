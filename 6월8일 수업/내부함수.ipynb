{
 "cells": [
  {
   "cell_type": "code",
   "execution_count": 1,
   "metadata": {},
   "outputs": [
    {
     "name": "stdout",
     "output_type": "stream",
     "text": [
      "30\n",
      "-10\n",
      "200\n",
      "0.5\n"
     ]
    }
   ],
   "source": [
    "def calculator():\n",
    "    def add(a, b):\n",
    "        return a + b\n",
    "\n",
    "    def subtract(a, b):\n",
    "        return a - b\n",
    "\n",
    "    def multiply(a, b):\n",
    "        return a * b\n",
    "\n",
    "    def divide(a, b):\n",
    "        return a / b\n",
    "\n",
    "    return add, subtract, multiply, divide\n",
    "\n",
    "add, subtract, multiply, divide = calculator()\n",
    "\n",
    "print(add(10, 20))  # 출력결과: 30\n",
    "print(subtract(10, 20))  # 출력결과: -10\n",
    "print(multiply(10, 20))  # 출력결과: 200\n",
    "print(divide(10, 20))  # 출력결과: 0.5\n"
   ]
  },
  {
   "cell_type": "code",
   "execution_count": 3,
   "metadata": {},
   "outputs": [
    {
     "name": "stdout",
     "output_type": "stream",
     "text": [
      "9\n",
      "27\n"
     ]
    }
   ],
   "source": [
    "def power(n):\n",
    "    def inner(x):\n",
    "        return x ** n\n",
    "    return inner\n",
    "\n",
    "square = power(2)  # 제곱 함수를 구현\n",
    "cube = power(3)  # 세제곱 함수를 구현\n",
    "\n",
    "print(square(3))  # 출력결과: 9\n",
    "print(cube(3))  # 출력결과: 27\n"
   ]
  },
  {
   "cell_type": "code",
   "execution_count": 4,
   "metadata": {},
   "outputs": [
    {
     "name": "stdout",
     "output_type": "stream",
     "text": [
      "x in inner: inner\n",
      "x in outer: outer\n",
      "x in global: global\n"
     ]
    }
   ],
   "source": [
    "x = 'global'\n",
    "\n",
    "def outer():\n",
    "    x = 'outer'\n",
    "    \n",
    "    def inner():\n",
    "        x = 'inner'\n",
    "        print('x in inner:', x)\n",
    "    \n",
    "    inner()\n",
    "    print('x in outer:', x)\n",
    "\n",
    "outer()\n",
    "print('x in global:', x)\n"
   ]
  },
  {
   "cell_type": "code",
   "execution_count": null,
   "metadata": {},
   "outputs": [],
   "source": []
  },
  {
   "cell_type": "code",
   "execution_count": 5,
   "metadata": {},
   "outputs": [
    {
     "name": "stdout",
     "output_type": "stream",
     "text": [
      "30\n"
     ]
    }
   ],
   "source": [
    "def outer_func(x):\n",
    "    def inner_func(y):\n",
    "        return x + y\n",
    "    return inner_func\n",
    "\n",
    "result = outer_func(10)\n",
    "print(result(20))  # 출력결과: 30\n",
    "\n"
   ]
  },
  {
   "cell_type": "code",
   "execution_count": null,
   "metadata": {},
   "outputs": [],
   "source": [
    "#내장 함수(built-in function)는 파이썬에서 기본적으로 제공하는 함수들을 말합니다. 이 함수들은 별도로 import할 필요 없이 어디서든 사용할 수 있습니다.\n",
    "\n",
    "#abs(): 인자의 절댓값을 반환합니다.\n",
    "#all(): 인자로 받은 모든 요소가 참인 경우 True를 반환합니다.\n",
    "#any(): 인자로 받은 요소 중 하나라도 참인 경우 True를 반환합니다.\n",
    "#bin(): 정수를 2진수로 변환한 문자열을 반환합니다.\n",
    "#oct(): 정수를 8진수로 변환한 문자열을 반환합니다.\n",
    "#hex(): 정수를 16진수로 변환한 문자열을 반환합니다.\n",
    "#chr(): 유니코드 코드포인트를 해당하는 문자로 변환한 문자열을 반환합니다.\n",
    "#dir(): 객체가 가지고 있는 메서드와 속성 등의 리스트를 반환합니다.\n",
    "#enumerate(): 시퀀스 자료형을 인자로 받아, 인덱스와 값을 튜플 형태로 반환하는 이터레이터를 반환합니다.\n",
    "#eval(): 문자열로 표현된 파이썬 코드를 실행하고 결과를 반환합니다.\n",
    "#int(): 문자열 등을 정수로 변환한 값을 반환합니다.\n",
    "#filter(): 인자로 받은 함수가 참인 요소만 추출하여 새로운 리스트를 반환합니다.\n",
    "#map(): 인자로 받은 함수를 시퀀스 자료형의 모든 요소에 적용하여 새로운 리스트를 반환합니다.\n",
    "#ord(): 유니코드 문자를 해당하는 코드포인트로 변환한 정수 값을 반환합니다.\n",
    "#repr(): 객체를 문자열로 나타내어 반환합니다. 이때 반환된 문자열은 해당 객체를 다시 생성할 수 있는 코드 형태입니다.\n",
    "#round(): 실수를 반올림한 값을 반환합니다.\n",
    "#zip(): 두 개 이상의 시퀀스 자료형을 병렬로 처리하여, 각 시퀀스의 같은 위치에 있는 요소들을 튜플로 묶은 이터레이터를 반환합니다.\n",
    "\n",
    "\n"
   ]
  }
 ],
 "metadata": {
  "kernelspec": {
   "display_name": "base",
   "language": "python",
   "name": "python3"
  },
  "language_info": {
   "codemirror_mode": {
    "name": "ipython",
    "version": 3
   },
   "file_extension": ".py",
   "mimetype": "text/x-python",
   "name": "python",
   "nbconvert_exporter": "python",
   "pygments_lexer": "ipython3",
   "version": "3.10.9"
  },
  "orig_nbformat": 4
 },
 "nbformat": 4,
 "nbformat_minor": 2
}
