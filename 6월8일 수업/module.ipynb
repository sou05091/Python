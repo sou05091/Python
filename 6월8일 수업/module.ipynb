{
 "cells": [
  {
   "cell_type": "code",
   "execution_count": 2,
   "metadata": {},
   "outputs": [
    {
     "name": "stdout",
     "output_type": "stream",
     "text": [
      "0.30618899618466655\n",
      "6\n"
     ]
    }
   ],
   "source": [
    "import random\n",
    "\n",
    "# 0 이상 1 미만의 난수 생성\n",
    "random_num = random.random()\n",
    "print(random_num)\n",
    "\n",
    "# 1 이상 10 미만의 정수 난수 생성\n",
    "random_int = random.randint(1, 10)\n",
    "print(random_int)\n"
   ]
  },
  {
   "cell_type": "code",
   "execution_count": 10,
   "metadata": {},
   "outputs": [
    {
     "name": "stdout",
     "output_type": "stream",
     "text": [
      "3 29 2576 102.66666666666667\n"
     ]
    }
   ],
   "source": [
    "import mymath\n",
    "rs1 = mymath.add(1,2)\n",
    "rs2 = mymath.subtract(52,23)\n",
    "rs3 = mymath.multiply(23,112)\n",
    "rs4 = mymath.divide(1232,12)\n",
    "print(rs1, rs2, rs3, rs4)"
   ]
  }
 ],
 "metadata": {
  "kernelspec": {
   "display_name": "base",
   "language": "python",
   "name": "python3"
  },
  "language_info": {
   "codemirror_mode": {
    "name": "ipython",
    "version": 3
   },
   "file_extension": ".py",
   "mimetype": "text/x-python",
   "name": "python",
   "nbconvert_exporter": "python",
   "pygments_lexer": "ipython3",
   "version": "3.10.9"
  },
  "orig_nbformat": 4
 },
 "nbformat": 4,
 "nbformat_minor": 2
}
