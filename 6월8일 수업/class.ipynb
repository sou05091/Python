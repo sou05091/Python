{
 "cells": [
  {
   "cell_type": "code",
   "execution_count": 2,
   "metadata": {},
   "outputs": [
    {
     "name": "stdout",
     "output_type": "stream",
     "text": [
      "3\n",
      "4\n",
      "12\n"
     ]
    }
   ],
   "source": [
    "class Rectangle:\n",
    "    def __init__(self, width, height):\n",
    "        self.width = width\n",
    "        self.height = height\n",
    "\n",
    "    def area(self):\n",
    "        return self.width * self.height\n",
    "\n",
    "# 인스턴스 생성 시 생성자 메서드 호출\n",
    "rectangle1 = Rectangle(3, 4)\n",
    "print(rectangle1.width) # 출력 결과: 3\n",
    "print(rectangle1.height) # 출력 결과: 4\n",
    "\n",
    "# 인스턴스 메서드 호출\n",
    "print(rectangle1.area()) # 출력 결과: 12\n"
   ]
  },
  {
   "cell_type": "code",
   "execution_count": 4,
   "metadata": {},
   "outputs": [
    {
     "name": "stdout",
     "output_type": "stream",
     "text": [
      "12\n",
      "14\n"
     ]
    }
   ],
   "source": [
    "class Rectangle:\n",
    "    def __init__(self, width, height):\n",
    "        self.width = width\n",
    "        self.height = height\n",
    "\n",
    "    def area(self):\n",
    "        return self.width * self.height\n",
    "\n",
    "    def perimeter(self):\n",
    "        return 2 * (self.width + self.height)\n",
    "\n",
    "# 인스턴스 생성\n",
    "rectangle1 = Rectangle(3, 4)\n",
    "\n",
    "# 인스턴스 메서드 호출\n",
    "print(rectangle1.area()) # 출력 결과: 12\n",
    "print(rectangle1.perimeter()) # 출력 결과: 14\n"
   ]
  },
  {
   "cell_type": "code",
   "execution_count": 6,
   "metadata": {},
   "outputs": [
    {
     "name": "stdout",
     "output_type": "stream",
     "text": [
      "0\n",
      "3\n",
      "2\n"
     ]
    }
   ],
   "source": [
    "class Bicycle:\n",
    "    # 생성자 메서드\n",
    "    def __init__(self, gear, speed):\n",
    "        self.gear = gear\n",
    "        self.speed = speed\n",
    "\n",
    "    # 인스턴스 메서드\n",
    "    def speed_up(self, increment):\n",
    "        self.speed += increment\n",
    "\n",
    "    def apply_brake(self, decrement):\n",
    "        self.speed -= decrement\n",
    "# Bicycle 클래스를 이용하여 객체 생성\n",
    "my_bike = Bicycle(6, 0)\n",
    "print(my_bike.speed) # 출력 결과: 0\n",
    "\n",
    "# 인스턴스 메서드 호출\n",
    "my_bike.speed_up(3)\n",
    "print(my_bike.speed) # 출력 결과: 3\n",
    "\n",
    "my_bike.apply_brake(1)\n",
    "print(my_bike.speed) # 출력 결과: 2\n"
   ]
  },
  {
   "cell_type": "code",
   "execution_count": 9,
   "metadata": {},
   "outputs": [
    {
     "name": "stdout",
     "output_type": "stream",
     "text": [
      "5\n",
      "6\n"
     ]
    }
   ],
   "source": [
    "class Calculator:\n",
    "    # 클래스 변수\n",
    "    operator = '+'\n",
    "\n",
    "    # 클래스 메서드\n",
    "    @classmethod\n",
    "    def set_operator(cls, new_operator):\n",
    "        cls.operator = new_operator\n",
    "\n",
    "    # 인스턴스 메서드\n",
    "    def calculate(self, num1, num2):\n",
    "        if Calculator.operator == '+':\n",
    "            return num1 + num2\n",
    "        elif Calculator.operator == '-':\n",
    "            return num1 - num2\n",
    "        elif Calculator.operator == '*':\n",
    "            return num1 * num2\n",
    "        elif Calculator.operator == '/':\n",
    "            return num1 / num2\n",
    "# Calculator 클래스를 이용하여 객체 생성\n",
    "my_calculator = Calculator()\n",
    "print(my_calculator.calculate(2, 3)) # 출력 결과: 5\n",
    "\n",
    "# 클래스 메서드 호출\n",
    "Calculator.set_operator('*')\n",
    "print(my_calculator.calculate(2, 3)) # 출력 결과: 6\n"
   ]
  },
  {
   "attachments": {},
   "cell_type": "markdown",
   "metadata": {},
   "source": []
  },
  {
   "cell_type": "code",
   "execution_count": 18,
   "metadata": {},
   "outputs": [
    {
     "name": "stdout",
     "output_type": "stream",
     "text": [
      "Alice\n"
     ]
    }
   ],
   "source": [
    "class Person:\n",
    "    def __init__(self, name, age):\n",
    "        self.name = name\n",
    "        self.__age = age  # age 인스턴스 변수를 비공개로 설정\n",
    "\n",
    "p = Person(\"Alice\", 25)\n",
    "print(p.name)   # Alice\n",
    "#print(p.__age)  # 비공개 인스턴스 변수에 접근 시 에러 발생\n"
   ]
  },
  {
   "cell_type": "code",
   "execution_count": 21,
   "metadata": {},
   "outputs": [
    {
     "name": "stdout",
     "output_type": "stream",
     "text": [
      "John\n",
      "Alice\n"
     ]
    }
   ],
   "source": [
    "class Person:\n",
    "    def __init__(self, name, age):\n",
    "        self.__name = name\n",
    "        self.__age = age\n",
    "\n",
    "    def get_name(self):\n",
    "        return self.__name\n",
    "\n",
    "    def set_name(self, name):\n",
    "        self.__name = name\n",
    "\n",
    "    def get_age(self):\n",
    "        return self.__age\n",
    "\n",
    "    def set_age(self, age):\n",
    "        self.__age = age\n",
    "        \n",
    "p = Person(\"John\", 30)\n",
    "print(p.get_name())  # \"John\" 출력\n",
    "p.set_name(\"Alice\")\n",
    "print(p.get_name())  # \"Alice\" 출력\n"
   ]
  },
  {
   "cell_type": "code",
   "execution_count": 23,
   "metadata": {},
   "outputs": [
    {
     "name": "stdout",
     "output_type": "stream",
     "text": [
      "Parent1's method1\n",
      "Parent2's method2\n"
     ]
    }
   ],
   "source": [
    "# 다중 상속 \n",
    "class Parent1:\n",
    "    def method1(self):\n",
    "        print(\"Parent1's method1\")\n",
    "\n",
    "class Parent2:\n",
    "    def method2(self):\n",
    "        print(\"Parent2's method2\")\n",
    "\n",
    "class Child(Parent1, Parent2):\n",
    "    pass\n",
    "\n",
    "c = Child()\n",
    "c.method1()  # Parent1's method1\n",
    "c.method2()  # Parent2's method2\n"
   ]
  },
  {
   "cell_type": "code",
   "execution_count": 25,
   "metadata": {},
   "outputs": [
    {
     "name": "stdout",
     "output_type": "stream",
     "text": [
      "멍멍!\n",
      "야옹!\n"
     ]
    }
   ],
   "source": [
    "#메서드 오버라이딩\n",
    "class Animal:\n",
    "    def speak(self):\n",
    "        print(\"동물이 소리를 냅니다.\")\n",
    "\n",
    "class Dog(Animal):\n",
    "    def speak(self):\n",
    "        print(\"멍멍!\")\n",
    "\n",
    "class Cat(Animal):\n",
    "    def speak(self):\n",
    "        print(\"야옹!\")\n",
    "\n",
    "# 메서드 오버라이딩을 이용한 다형성 구현\n",
    "animals = [Dog(), Cat()]\n",
    "\n",
    "for animal in animals:\n",
    "    animal.speak() # 각 객체에 따라 다른 동작을 수행\n"
   ]
  },
  {
   "cell_type": "code",
   "execution_count": 28,
   "metadata": {},
   "outputs": [
    {
     "name": "stdout",
     "output_type": "stream",
     "text": [
      "Bob attacks with a normal attack.\n",
      "Conan attacks with a mighty swing.\n",
      "Conan smashes the ground with a powerful blow.\n",
      "Merlin casts a magic missile.\n",
      "Merlin teleports to a nearby location.\n"
     ]
    }
   ],
   "source": [
    "#상속과 메서드 오버라이딩\n",
    "#게임 캐릭터를 구현하는 예시\n",
    "class Character:\n",
    "    def __init__(self, name, level, health):\n",
    "        self.name = name\n",
    "        self.level = level\n",
    "        self.health = health\n",
    "    \n",
    "    def attack(self):\n",
    "        print(f\"{self.name} attacks with a normal attack.\")\n",
    "\n",
    "class Warrior(Character):\n",
    "    def __init__(self, name, level, health, strength):\n",
    "        super().__init__(name, level, health)\n",
    "        self.strength = strength\n",
    "    \n",
    "    def attack(self):\n",
    "        print(f\"{self.name} attacks with a mighty swing.\")\n",
    "    \n",
    "    def smash(self):\n",
    "        print(f\"{self.name} smashes the ground with a powerful blow.\")\n",
    "\n",
    "class Mage(Character):\n",
    "    def __init__(self, name, level, health, magic):\n",
    "        super().__init__(name, level, health)\n",
    "        self.magic = magic\n",
    "    \n",
    "    def attack(self):\n",
    "        print(f\"{self.name} casts a magic missile.\")\n",
    "    \n",
    "    def teleport(self):\n",
    "        print(f\"{self.name} teleports to a nearby location.\")\n",
    "\n",
    "c = Character(\"Bob\", 10, 100)\n",
    "c.attack()  # Bob attacks with a normal attack.\n",
    "\n",
    "w = Warrior(\"Conan\", 20, 200, 15)\n",
    "w.attack()  # Conan attacks with a mighty swing.\n",
    "w.smash()   # Conan smashes the ground with a powerful blow.\n",
    "\n",
    "m = Mage(\"Merlin\", 15, 150, 30)\n",
    "m.attack()  # Merlin casts a magic missile.\n",
    "m.teleport()  # Merlin teleports to a nearby location.\n",
    "\n"
   ]
  },
  {
   "cell_type": "code",
   "execution_count": 30,
   "metadata": {},
   "outputs": [
    {
     "name": "stdout",
     "output_type": "stream",
     "text": [
      "Alice이(가) Goblin을(를) 공격했습니다.\n",
      "Goblin의 체력이 40 남았습니다.\n",
      "Goblin이(가) Alice을(를) 공격했습니다.\n",
      "Alice의 체력이 95 남았습니다.\n",
      "Alice이(가) Goblin을(를) 공격했습니다.\n",
      "Goblin의 체력이 30 남았습니다.\n",
      "Goblin이(가) Alice을(를) 공격했습니다.\n",
      "Alice의 체력이 90 남았습니다.\n",
      "Alice이(가) Goblin을(를) 공격했습니다.\n",
      "Goblin의 체력이 20 남았습니다.\n",
      "Goblin이(가) Alice을(를) 공격했습니다.\n",
      "Alice의 체력이 85 남았습니다.\n",
      "Alice이(가) Goblin을(를) 공격했습니다.\n",
      "Goblin의 체력이 10 남았습니다.\n",
      "Goblin이(가) Alice을(를) 공격했습니다.\n",
      "Alice의 체력이 80 남았습니다.\n",
      "Alice이(가) Goblin을(를) 공격했습니다.\n",
      "Goblin이(가) 죽었습니다.\n"
     ]
    }
   ],
   "source": [
    "class Game:\n",
    "    def __init__(self, player_name, player_hp, player_attack, monster_name, monster_hp, monster_attack):\n",
    "        self.player_name = player_name\n",
    "        self.player_hp = player_hp\n",
    "        self.player_attack = player_attack\n",
    "        self.monster_name = monster_name\n",
    "        self.monster_hp = monster_hp\n",
    "        self.monster_attack = monster_attack\n",
    "\n",
    "    def fight(self):\n",
    "        while self.player_hp > 0 and self.monster_hp > 0:\n",
    "            print(f\"{self.player_name}의 체력: {self.player_hp}\")\n",
    "            print(f\"{self.monster_name}의 체력: {self.monster_hp}\")\n",
    "            self.monster_hp -= self.player_attack\n",
    "            print(f\"{self.player_name}이 {self.monster_name}을 공격하여 {self.player_attack}의 데미지를 입혔습니다.\")\n",
    "            if self.monster_hp <= 0:\n",
    "                print(f\"{self.monster_name}을 물리쳤습니다.\")\n",
    "                break\n",
    "            self.player_hp -= self.monster_attack\n",
    "            print(f\"{self.monster_name}이 {self.player_name}을 공격하여 {self.monster_attack}의 데미지를 입혔습니다.\")\n",
    "            if self.player_hp <= 0:\n",
    "                print(f\"{self.player_name}이 죽었습니다.\")\n",
    "                break\n",
    "class Player:\n",
    "    def __init__(self, name, hp, attack):\n",
    "        self.name = name\n",
    "        self.hp = hp\n",
    "        self.attack = attack\n",
    "\n",
    "    def attack_monster(self, monster):\n",
    "        print(f\"{self.name}이(가) {monster.name}을(를) 공격했습니다.\")\n",
    "        damage = self.attack\n",
    "        monster.defend(damage)\n",
    "\n",
    "    def defend(self, damage):\n",
    "        self.hp -= damage\n",
    "        if self.hp <= 0:\n",
    "            print(f\"{self.name}이(가) 죽었습니다.\")\n",
    "        else:\n",
    "            print(f\"{self.name}의 체력이 {self.hp} 남았습니다.\")\n",
    "class Monster:\n",
    "    def __init__(self, name, hp, attack):\n",
    "        self.name = name\n",
    "        self.hp = hp\n",
    "        self.attack = attack\n",
    "\n",
    "    def attack_player(self, player):\n",
    "        print(f\"{self.name}이(가) {player.name}을(를) 공격했습니다.\")\n",
    "        damage = self.attack\n",
    "        player.defend(damage)\n",
    "\n",
    "    def defend(self, damage):\n",
    "        self.hp -= damage\n",
    "        if self.hp <= 0:\n",
    "            print(f\"{self.name}이(가) 죽었습니다.\")\n",
    "        else:\n",
    "            print(f\"{self.name}의 체력이 {self.hp} 남았습니다.\")\n",
    "class Game:\n",
    "    def __init__(self):\n",
    "        self.player = None\n",
    "        self.monster = None\n",
    "\n",
    "    def create_player(self, name, hp, attack):\n",
    "        self.player = Player(name, hp, attack)\n",
    "\n",
    "    def create_monster(self, name, hp, attack):\n",
    "        self.monster = Monster(name, hp, attack)\n",
    "\n",
    "    def fight(self):\n",
    "        while self.player.hp > 0 and self.monster.hp > 0:\n",
    "            self.player.attack_monster(self.monster)\n",
    "            if self.monster.hp <= 0:\n",
    "                break\n",
    "            self.monster.attack_player(self.player)\n",
    "            if self.player.hp <= 0:\n",
    "                break\n",
    "game = Game()\n",
    "game.create_player(\"Alice\", 100, 10)\n",
    "game.create_monster(\"Goblin\", 50, 5)\n",
    "game.fight()\n",
    "\n"
   ]
  }
 ],
 "metadata": {
  "kernelspec": {
   "display_name": "base",
   "language": "python",
   "name": "python3"
  },
  "language_info": {
   "codemirror_mode": {
    "name": "ipython",
    "version": 3
   },
   "file_extension": ".py",
   "mimetype": "text/x-python",
   "name": "python",
   "nbconvert_exporter": "python",
   "pygments_lexer": "ipython3",
   "version": "3.10.9"
  },
  "orig_nbformat": 4
 },
 "nbformat": 4,
 "nbformat_minor": 2
}
