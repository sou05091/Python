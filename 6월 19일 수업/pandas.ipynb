{
 "cells": [
  {
   "attachments": {},
   "cell_type": "markdown",
   "metadata": {},
   "source": [
    "# 데이터 전처리 예제\n",
    "\n",
    "'학년' 열을 추가하고, 모든 행에 '3학년'이라는 값으로 채워 넣으세요.\n",
    "\n",
    "'국적' 열을 추가하고, 각 행에 해당하는 사람의 국적을 채워 넣으세요.\n",
    "\n",
    "'성별'이 '여'인 행만 남기고 나머지 행을 삭제하세요.\n",
    "\n",
    "'나이' 열을 기준으로 내림차순으로 행을 정렬하세요.\n",
    "\n",
    "인덱스가 2인 행을 삭제하세요.\n",
    "아래 새로운 행 3개를 추가하세요.\n",
    "\n",
    "'이름' 열을 기준으로 오름차순으로 행을 정렬하세요.\n",
    "\n",
    "'키' 열의 값을 cm에서 m로 변환하세요.\n",
    "\n",
    "'성별' 열을 삭제하세요.\n"
   ]
  },
  {
   "cell_type": "code",
   "execution_count": 10,
   "metadata": {},
   "outputs": [
    {
     "name": "stderr",
     "output_type": "stream",
     "text": [
      "C:\\Users\\user\\AppData\\Local\\Temp\\ipykernel_5476\\4198844548.py:14: FutureWarning: The frame.append method is deprecated and will be removed from pandas in a future version. Use pandas.concat instead.\n",
      "  df= df.append(new_rows, ignore_index=True)\n"
     ]
    }
   ],
   "source": [
    "import pandas as pd\n",
    "\n",
    "data = {'이름': ['John', 'Steve', 'Sarah', 'Ann', 'Mike'],\n",
    "        '나이': [25, 32, 28, 35, 41],\n",
    "        '성별': ['남', '남', '여', '여', '남'],\n",
    "        '키': [175, 180, 163, 155, 190]}\n",
    "df = pd.DataFrame(data)\n",
    "\n",
    "df['학년'] = '3학년'\n",
    "df['국적'] = ['미국', '영국', '일본', '한국', '중국']\n",
    "df = df[df['성별'] == '여']\n",
    "df = df.sort_values(by='나이', ascending=False)\n",
    "new_rows = [{'이름':'Alex', '나이':22, '성별':'남','키':180, '학년':'2학년', '국적':'미국'}]\n",
    "df= df.append(new_rows, ignore_index=True)\n",
    "df = df.sort_values(by='이름')\n",
    "df['키'] = df['키']/100\n",
    "df = df.drop('성별', axis=1)\n"
   ]
  },
  {
   "cell_type": "code",
   "execution_count": 7,
   "metadata": {},
   "outputs": [
    {
     "name": "stdout",
     "output_type": "stream",
     "text": [
      "   age      city     name\n",
      "4   45     Tokyo      Eva\n",
      "3   40    Berlin    David\n",
      "2   35    London  Charlie\n",
      "1   30     Paris      Bob\n",
      "0   25  New York    Alice\n"
     ]
    }
   ],
   "source": [
    "# 열 및 행 조작 (재정렬)\n",
    "import pandas as pd\n",
    "\n",
    "# 데이터프레임 생성\n",
    "data = {'name': ['Alice', 'Bob', 'Charlie', 'David', 'Eva'],\n",
    "        'age': [25, 30, 35, 40, 45],\n",
    "        'city': ['New York', 'Paris', 'London', 'Berlin', 'Tokyo']}\n",
    "df = pd.DataFrame(data)\n",
    "\n",
    "# 행 재정렬 방법 1: loc[]을 이용하여 행 순서 변경\n",
    "df = df.loc[[4, 3, 2, 1, 0]]\n",
    "\n",
    "# 행 재정렬 방법 2: sort_values() 메소드를 이용하여 열 기준으로 정렬\n",
    "df = df.sort_values('age', ascending=False)\n",
    "\n",
    "# 열 재정렬 방법 1: 열 이름 순서 변경\n",
    "df = df[['city', 'name', 'age']]\n",
    "\n",
    "# 열 재정렬 방법 2: 열 이름을 알파벳 순서로 정렬\n",
    "df = df.reindex(sorted(df.columns), axis=1)\n",
    "\n",
    "# 출력\n",
    "print(df)\n"
   ]
  },
  {
   "cell_type": "code",
   "execution_count": 8,
   "metadata": {},
   "outputs": [
    {
     "name": "stdout",
     "output_type": "stream",
     "text": [
      "Empty DataFrame\n",
      "Columns: []\n",
      "Index: [3, 4]\n"
     ]
    }
   ],
   "source": [
    "# 삭제\n",
    "import pandas as pd\n",
    "\n",
    "# 데이터프레임 생성\n",
    "data = {'name': ['Alice', 'Bob', 'Charlie', 'David', 'Eva'],\n",
    "        'age': [25, 30, 35, 40, 45],\n",
    "        'city': ['New York', 'Paris', 'London', 'Berlin', 'Tokyo']}\n",
    "df = pd.DataFrame(data)\n",
    "\n",
    "# 행 삭제 방법 1: drop() 메소드를 이용하여 단일 행 삭제\n",
    "df = df.drop(0)\n",
    "\n",
    "# 행 삭제 방법 2: drop() 메소드를 이용하여 여러 행 삭제\n",
    "df = df.drop([1, 2])\n",
    "\n",
    "# 열 삭제 방법 1: drop() 메소드를 이용하여 단일 열 삭제\n",
    "df = df.drop('age', axis=1)\n",
    "\n",
    "# 열 삭제 방법 2: drop() 메소드를 이용하여 여러 열 삭제\n",
    "df = df.drop(['name', 'city'], axis=1)\n",
    "\n",
    "# 출력\n",
    "print(df)\n"
   ]
  },
  {
   "attachments": {},
   "cell_type": "markdown",
   "metadata": {},
   "source": [
    "# 문자열 처리\n",
    "\n",
    "문자열 데이터를 처리하기 위한 다양한 메소드 제공\n",
    ".str 액세서를 사용하여 문자열 함수를 적용\n",
    "\n",
    "upper(): 모든 문자를 대문자로 변환합니다.\n",
    "lower(): 모든 문자를 소문자로 변환합니다.\n",
    "strip(): 양쪽 끝의 공백을 제거합니다.\n",
    "lstrip(): 왼쪽 끝의 공백을 제거합니다.\n",
    "rstrip(): 오른쪽 끝의 공백을 제거합니다.\n",
    "split(): 주어진 구분자를 기준으로 문자열을 분할합니다.\n",
    "contains(): 문자열에서 특정 문자열이 포함되어 있는지 확인합니다.\n",
    "replace(): 문자열에서 특정 문자열을 다른 문자열로 대체합니다.\n",
    "slice(): 문자열에서 일부 문자를 추출합니다.\n",
    "len(): 문자열의 길이를 반환합니다.\n",
    "startswith(): 문자열이 특정 문자열로 시작하는지 확인합니다.\n",
    "endswith(): 문자열이 특정 문자열로 끝나는지 확인합니다."
   ]
  },
  {
   "cell_type": "code",
   "execution_count": 11,
   "metadata": {},
   "outputs": [
    {
     "name": "stdout",
     "output_type": "stream",
     "text": [
      "     total_bill    tip    sex  smoker    day   time   size\n",
      "0         False  False  False   False  False  False  False\n",
      "1         False  False  False   False  False  False  False\n",
      "2         False  False  False   False  False  False  False\n",
      "3         False  False  False   False  False  False  False\n",
      "4         False  False  False   False  False  False  False\n",
      "..          ...    ...    ...     ...    ...    ...    ...\n",
      "239       False  False  False   False  False  False  False\n",
      "240       False  False  False   False  False  False  False\n",
      "241       False  False  False   False  False  False  False\n",
      "242       False  False  False   False  False  False  False\n",
      "243       False  False  False   False  False  False  False\n",
      "\n",
      "[244 rows x 7 columns]\n"
     ]
    }
   ],
   "source": [
    "import pandas as pd\n",
    "df = pd.read_csv('tips.csv')\n",
    "print(df.isnull())"
   ]
  },
  {
   "cell_type": "code",
   "execution_count": 12,
   "metadata": {},
   "outputs": [
    {
     "name": "stdout",
     "output_type": "stream",
     "text": [
      "       A      B      C\n",
      "0  False  False  False\n",
      "1   True  False  False\n",
      "2  False   True  False\n",
      "     A    B  C\n",
      "0  1.0  4.0  7\n",
      "1  0.0  5.0  8\n",
      "2  3.0  0.0  9\n",
      "     A    B  C\n",
      "0  1.0  4.0  7\n"
     ]
    }
   ],
   "source": [
    "import pandas as pd\n",
    "import numpy as np\n",
    "\n",
    "# 예제 데이터\n",
    "data = {'A': [1, np.nan, 3], 'B': [4, 5, np.nan], 'C': [7, 8, 9]}\n",
    "df = pd.DataFrame(data)\n",
    "\n",
    "# 결측치 확인\n",
    "print(df.isnull())\n",
    "# 결과:\n",
    "#        A      B      C\n",
    "# 0  False  False  False\n",
    "# 1   True  False  False\n",
    "# 2  False   True  False\n",
    "\n",
    "# 결측치 대체\n",
    "filled_df = df.fillna(0)\n",
    "print(filled_df)\n",
    "# 결과:\n",
    "#      A    B  C\n",
    "# 0  1.0  4.0  7\n",
    "# 1  0.0  5.0  8\n",
    "# 2  3.0  0.0  9\n",
    "\n",
    "# 결측치 제거\n",
    "dropped_df = df.dropna()\n",
    "print(dropped_df)\n",
    "# 결과:\n",
    "#      A    B  C\n",
    "# 0  1.0  4.0  7\n"
   ]
  },
  {
   "cell_type": "code",
   "execution_count": 13,
   "metadata": {},
   "outputs": [
    {
     "name": "stdout",
     "output_type": "stream",
     "text": [
      "0    False\n",
      "1    False\n",
      "2     True\n",
      "dtype: bool\n",
      "   A  B  C\n",
      "0  1  4  7\n",
      "1  2  5  8\n"
     ]
    }
   ],
   "source": [
    "import pandas as pd\n",
    "\n",
    "# 예제 데이터\n",
    "data = {'A': [1, 2, 2], 'B': [4, 5, 5], 'C': [7, 8, 8]}\n",
    "df = pd.DataFrame(data)\n",
    "\n",
    "# 중복 확인\n",
    "print(df.duplicated())\n",
    "# 결과:\n",
    "# 0    False\n",
    "# 1    False\n",
    "# 2     True\n",
    "\n",
    "# 중복 제거\n",
    "deduplicated_df = df.drop_duplicates()\n",
    "print(deduplicated_df)\n",
    "# 결과:\n",
    "#    A  B  C\n",
    "# 0  1  4  7\n",
    "# 1  2  5  8\n"
   ]
  },
  {
   "cell_type": "code",
   "execution_count": 14,
   "metadata": {},
   "outputs": [
    {
     "data": {
      "image/png": "[encoded data removed]",
      "text/plain": [
       "<Figure size 640x480 with 1 Axes>"
      ]
     },
     "metadata": {},
     "output_type": "display_data"
    }
   ],
   "source": [
    "import pandas as pd\n",
    "import matplotlib.pyplot as plt\n",
    "\n",
    "# 데이터프레임 생성\n",
    "data = {\n",
    "    'year': ['2017', '2018', '2019', '2020', '2021'],\n",
    "    'sales': ['100', '80', '150', '-50', '180'],\n",
    "    'expenses': ['80', '90', '100', '110', '120']\n",
    "}\n",
    "\n",
    "df = pd.DataFrame(data)\n",
    "\n",
    "# sales 열을 정수형으로 변환\n",
    "#df['sales'] = df['sales'].astype(int)\n",
    "\n",
    "# 그래프 그리기\n",
    "plt.plot(df['year'], df['sales'])\n",
    "\n",
    "# 축과 제목 설정\n",
    "plt.xlabel('Year')\n",
    "plt.ylabel('Sales')\n",
    "plt.title('Sales over Years')\n",
    "\n",
    "# 그래프 표시\n",
    "plt.show()"
   ]
  },
  {
   "cell_type": "code",
   "execution_count": 16,
   "metadata": {},
   "outputs": [
    {
     "name": "stdout",
     "output_type": "stream",
     "text": [
      "int_col                float64\n",
      "float_col                int32\n",
      "str_col                   bool\n",
      "bool_col                object\n",
      "category_col          category\n",
      "date_col        datetime64[ns]\n",
      "dtype: object\n",
      "   int_col  float_col  str_col bool_col category_col   date_col\n",
      "0      1.0          1     True     True            a 2022-01-01\n",
      "1      2.0          2     True    False            b 2022-02-01\n",
      "2      3.0          3     True     True            c 2022-03-01\n",
      "3      4.0          4     True    False            a 2022-04-01\n",
      "4      5.0          5     True     True            b 2022-05-01\n"
     ]
    }
   ],
   "source": [
    "import pandas as pd\n",
    "\n",
    "# 데이터프레임 생성\n",
    "data = {'int_col': [1, 2, 3, 4, 5],\n",
    "        'float_col': [1.1, 2.2, 3.3, 4.4, 5.5],\n",
    "        'str_col': ['1', '2', '3', '4', '5'],\n",
    "        'bool_col': [True, False, True, False, True],\n",
    "        'category_col': ['a', 'b', 'c', 'a', 'b'],\n",
    "        'date_col': ['2022-01-01', '2022-02-01', '2022-03-01', '2022-04-01', '2022-05-01']}\n",
    "\n",
    "df = pd.DataFrame(data)\n",
    "\n",
    "# 열 데이터 형 변환\n",
    "df['int_col'] = df['int_col'].astype(float)  # 정수형 -> 실수형\n",
    "df['float_col'] = df['float_col'].astype(int)  # 실수형 -> 정수형\n",
    "df['str_col'] = df['str_col'].astype(bool)  # 문자열 -> 불리언형\n",
    "df['bool_col'] = df['bool_col'].astype(str)  # 불리언형 -> 문자열형\n",
    "df['category_col'] = df['category_col'].astype('category')  # 문자열 -> 범주형\n",
    "df['date_col'] = pd.to_datetime(df['date_col'])  # 문자열 -> 날짜/시간형\n",
    "\n",
    "# 데이터프레임 정보 출력\n",
    "print(df.dtypes)\n",
    "print(df)"
   ]
  },
  {
   "cell_type": "code",
   "execution_count": 17,
   "metadata": {},
   "outputs": [
    {
     "name": "stdout",
     "output_type": "stream",
     "text": [
      "   int_col  float_col  str_col\n",
      "0        1        1.1        1\n",
      "1        2        2.2        2\n",
      "2        3        3.3        3\n",
      "3        4        4.4        4\n",
      "4        5        5.5        5\n"
     ]
    }
   ],
   "source": [
    "import pandas as pd\n",
    "\n",
    "# 데이터프레임 생성\n",
    "data = {'int_col': [1, 2, 3, 4, 5],\n",
    "        'float_col': [1.1, 2.2, 3.3, 4.4, 5.5],\n",
    "        'str_col': ['1', '2', '3', '4', '5']}\n",
    "\n",
    "df = pd.DataFrame(data)\n",
    "\n",
    "# 열 데이터 형 변환\n",
    "df['int_col'] = pd.to_numeric(df['int_col'])  # 정수형 -> 숫자형\n",
    "df['float_col'] = pd.to_numeric(df['float_col'])  # 실수형 -> 숫자형\n",
    "df['str_col'] = pd.to_numeric(df['str_col'])  # 문자열 -> 숫자형\n",
    "\n",
    "# 데이터프레임 출력\n",
    "print(df)\n"
   ]
  },
  {
   "cell_type": "code",
   "execution_count": 18,
   "metadata": {},
   "outputs": [
    {
     "name": "stdout",
     "output_type": "stream",
     "text": [
      "      name  age  score1  score2\n",
      "0    ALICE   25      80      85\n",
      "1      BOB   30      70      75\n",
      "2  CHARLIE   35      85      90\n"
     ]
    }
   ],
   "source": [
    "import pandas as pd\n",
    "\n",
    "# 데이터프레임 생성\n",
    "data = {'name': ['Alice', 'Bob', 'Charlie'],\n",
    "        'age': ['25', '30', '35'],\n",
    "        'score1': [80, 70, 85],\n",
    "        'score2': [85, 75, 90]}\n",
    "\n",
    "df = pd.DataFrame(data)\n",
    "\n",
    "# apply() 메소드를 이용하여 모든 문자열 값을 대문자로 변환\n",
    "df['name'] = df['name'].apply(lambda x: x.upper())\n",
    "df['age'] = df['age'].apply(int)\n",
    "\n",
    "print(df)\n"
   ]
  },
  {
   "cell_type": "code",
   "execution_count": 21,
   "metadata": {},
   "outputs": [
    {
     "name": "stdout",
     "output_type": "stream",
     "text": [
      "    A   B   C   D\n",
      "0  A0  B0  C0  D0\n",
      "1  A1  B1  C1  D1\n",
      "2  A2  B2  C2  D2\n",
      "3  A3  B3  C3  D3\n",
      "4  A4  B4  C4  D4\n",
      "5  A5  B5  C5  D5\n",
      "6  A6  B6  C6  D6\n",
      "7  A7  B7  C7  D7\n"
     ]
    }
   ],
   "source": [
    "import pandas as pd\n",
    "\n",
    "df1 = pd.DataFrame({'A': ['A0', 'A1', 'A2', 'A3'],\n",
    "                    'B': ['B0', 'B1', 'B2', 'B3'],\n",
    "                    'C': ['C0', 'C1', 'C2', 'C3'],\n",
    "                    'D': ['D0', 'D1', 'D2', 'D3']})\n",
    "\n",
    "df2 = pd.DataFrame({'A': ['A4', 'A5', 'A6', 'A7'],\n",
    "                    'B': ['B4', 'B5', 'B6', 'B7'],\n",
    "                    'C': ['C4', 'C5', 'C6', 'C7'],\n",
    "                    'D': ['D4', 'D5', 'D6', 'D7']})\n",
    "# 0 = 행방향\n",
    "# 1 = 열방향\n",
    "result = pd.concat([df1, df2], axis=0, ignore_index=True)\n",
    "\n",
    "print(result)\n"
   ]
  },
  {
   "cell_type": "code",
   "execution_count": 24,
   "metadata": {},
   "outputs": [
    {
     "name": "stdout",
     "output_type": "stream",
     "text": [
      "  key    A    B    C    D\n",
      "0  K0   A0   B0   C0   D0\n",
      "1  K1   A1   B1  NaN  NaN\n",
      "2  K3   A3   B3   C3   D3\n",
      "3  K2  NaN  NaN   C2   D2\n"
     ]
    }
   ],
   "source": [
    "# Merge 데이터 병합\n",
    "import pandas as pd\n",
    "\n",
    "left = pd.DataFrame({'key': ['K0', 'K1', 'K3'],\n",
    "                     'A': ['A0', 'A1', 'A3'],\n",
    "                     'B': ['B0', 'B1', 'B3']})\n",
    "\n",
    "right = pd.DataFrame({'key': ['K0', 'K2', 'K3'],\n",
    "                      'C': ['C0', 'C2', 'C3'],\n",
    "                      'D': ['D0', 'D2', 'D3']})\n",
    "\n",
    "result = pd.merge(left, right, on='key', how = 'outer')\n",
    "\n",
    "\n",
    "print(result)\n"
   ]
  },
  {
   "cell_type": "code",
   "execution_count": 25,
   "metadata": {},
   "outputs": [
    {
     "name": "stdout",
     "output_type": "stream",
     "text": [
      "Inner Join:\n",
      "      이름  나이 성별    키   학년\n",
      "1  Steve  32  남  180  2학년\n",
      "2  Sarah  28  여  163  2학년\n"
     ]
    }
   ],
   "source": [
    "import pandas as pd\n",
    "\n",
    "# 첫 번째 데이터프레임 생성\n",
    "data1 = {'이름': ['John', 'Steve', 'Sarah'],\n",
    "         '나이': [25, 32, 28],\n",
    "         '성별': ['남', '남', '여']}\n",
    "df1 = pd.DataFrame(data1)\n",
    "\n",
    "# 두 번째 데이터프레임 생성\n",
    "data2 = {'이름': ['Steve', 'Sarah', 'Mike'],\n",
    "         '키': [180, 163, 190],\n",
    "         '학년': ['2학년', '2학년', '3학년']}\n",
    "df2 = pd.DataFrame(data2)\n",
    "\n",
    "# 조인 작업 수행\n",
    "# how='inner': 내부 조인\n",
    "inner_join = df1.join(df2.set_index('이름'), on='이름', how='inner')\n",
    "print(\"Inner Join:\")\n",
    "print(inner_join)\n"
   ]
  },
  {
   "attachments": {},
   "cell_type": "markdown",
   "metadata": {},
   "source": [
    "# 데이터 그룹화\n",
    "\n",
    "grouped = df.groupby('열 이름')\n",
    "\n",
    "grouped['열이름'].집계함수()\n",
    "\n",
    "groupby 함수\n",
    "집계 함수\n",
    "\n",
    "count(): 그룹별로 데이터의 개수를 계산합니다.\n",
    "size(): 그룹별로 데이터의 크기를 계산합니다. count()와 다르게 NaN값도 포함합니다.\n",
    "sum(): 그룹별로 데이터의 합을 계산합니다.\n",
    "mean(): 그룹별로 데이터의 평균을 계산합니다.\n",
    "median(): 그룹별로 데이터의 중앙값을 계산합니다.\n",
    "min(): 그룹별로 데이터의 최솟값을 계산합니다.\n",
    "max(): 그룹별로 데이터의 최댓값을 계산합니다.\n",
    "std(): 그룹별로 데이터의 표준편차를 계산합니다.\n",
    "var(): 그룹별로 데이터의 분산을 계산합니다.\n",
    "sem(): 그룹별로 데이터의 표준오차를 계산합니다.\n",
    "describe(): 그룹별로 기술통계값을 계산합니다.\n"
   ]
  },
  {
   "cell_type": "code",
   "execution_count": 28,
   "metadata": {},
   "outputs": [
    {
     "data": {
      "image/png": "[encoded data removed]",
      "text/plain": [
       "<Figure size 640x480 with 1 Axes>"
      ]
     },
     "metadata": {},
     "output_type": "display_data"
    }
   ],
   "source": [
    "import pandas as pd\n",
    "import numpy as np\n",
    "import matplotlib.pyplot as plt\n",
    "\n",
    "# 예시 데이터프레임 생성\n",
    "data = {'Grade': np.random.randint(1, 4, size=30),\n",
    "        'Score': np.random.randint(50, 100, size=30),\n",
    "        'Subject': np.random.choice(['Math', 'English', 'Korean'], size=30)}\n",
    "df = pd.DataFrame(data)\n",
    "\n",
    "# 과목별 평균 성적 계산\n",
    "pivot_table = df.pivot_table(index='Grade', columns='Subject', values='Score', aggfunc='mean')\n",
    "\n",
    "# 막대 그래프 그리기\n",
    "pivot_table.plot(kind='bar')\n",
    "plt.title('Average Score by Subject and Grade')\n",
    "plt.xlabel('Grade')\n",
    "plt.ylabel('Average Score')\n",
    "plt.legend(title='Subject')\n",
    "plt.xticks(rotation=0)\n",
    "plt.show()\n",
    "\n"
   ]
  }
 ],
 "metadata": {
  "kernelspec": {
   "display_name": "base",
   "language": "python",
   "name": "python3"
  },
  "language_info": {
   "codemirror_mode": {
    "name": "ipython",
    "version": 3
   },
   "file_extension": ".py",
   "mimetype": "text/x-python",
   "name": "python",
   "nbconvert_exporter": "python",
   "pygments_lexer": "ipython3",
   "version": "3.10.9"
  },
  "orig_nbformat": 4
 },
 "nbformat": 4,
 "nbformat_minor": 2
}
